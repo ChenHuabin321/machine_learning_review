{
 "cells": [
  {
   "cell_type": "markdown",
   "metadata": {},
   "source": [
    "# 1 算法概述"
   ]
  },
  {
   "cell_type": "markdown",
   "metadata": {},
   "source": [
    "我们每天都做着各种形形色色的决策——周末怎么嗨、是否买下衣服、选哪种交通工具等等，这些决策的过程我们用图形的形式表现出来就是一种类似树形的结构，将这种决策思想应用到机器学习算法领域，那就是我们本文要说的决策树算法。"
   ]
  },
  {
   "cell_type": "markdown",
   "metadata": {},
   "source": []
  },
  {
   "cell_type": "markdown",
   "metadata": {},
   "source": [
    "决策树算法属于有监督学习算法的一员，在决策前需要先根据先验数据进行学习，构建并训练出一个决策树模型。决策树模型中每一个非叶子结点代表着一个特征属性，其下每一个分支都代表对该特征属性值域的不同取值划分，每一个叶子结点代表一个输出分类。应用模型进行决策时，从第一个非叶子结点（根节点）开始，根据特征属性和值选择分支直到最后的叶子结点，最后的叶子结点所代表的分类就是最终的决策结果。"
   ]
  },
  {
   "cell_type": "markdown",
   "metadata": {},
   "source": [
    "决策树算法的本质是根据训练数据进行学习，构建一颗最优的决策树。之所以说最优，是因为对于同一个数据集，在不同的策略下可能构造出不一样的决策树。假设我们有如下一个数据集，用于判断同事是否是程序员（纯属瞎编娱乐，请勿深究）："
   ]
  },
  {
   "cell_type": "markdown",
   "metadata": {},
   "source": [
    "![image](data:image/png;base64,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)"
   ]
  },
  {
   "cell_type": "markdown",
   "metadata": {},
   "source": [
    "我们可能构建出下面这棵树："
   ]
  },
  {
   "cell_type": "markdown",
   "metadata": {},
   "source": []
  },
  {
   "cell_type": "markdown",
   "metadata": {},
   "source": [
    "也有可能构建出下面这棵树："
   ]
  },
  {
   "cell_type": "markdown",
   "metadata": {},
   "source": []
  },
  {
   "cell_type": "markdown",
   "metadata": {},
   "source": [
    "甚至还有其他结构的决策树。对于不同结构的决策树，当然对决策的效率，甚至是准确率都是有所影响，那么，怎么构建一颗最优的决策树呢？  \n",
    "\n",
    "我们知道，决策树是一种递归的逻辑结构，其每一个节点都可以作为一棵树，那么，我们只需要做到每个节点最优，就可以保证整个决策树最优。所以，对于构建一颗决策树，如何选择最优分裂特征属性，即从当前数据的特征中选择一个特征属性作为当前节点的划分标准，使分裂后各子树的样本子集的“纯度”越来越高。\n",
    "\n",
    "在决策树算法中，根据选择最优分裂特征属性的策略不同，分为多种决策树算法，最经典的就是ID3、C4.5、CART，本文主要ID3和C4.5两种分类树，CART由于其特殊性，将在下一篇博客中介绍。"
   ]
  },
  {
   "cell_type": "markdown",
   "metadata": {},
   "source": [
    "# 2 ID3决策树算法"
   ]
  },
  {
   "cell_type": "markdown",
   "metadata": {},
   "source": [
    "之前说过，选择分裂特征属性时，分裂后的样本子集“纯度”越高越好，对于这个纯度，有一个专门的概念用于量化衡量——信息熵(entropy)。"
   ]
  },
  {
   "cell_type": "markdown",
   "metadata": {},
   "source": [
    "信息熵是信息论中的概念，通常简称为熵，表示随机变量不确定性或者说混乱程度。设当前样本集合$X$包含$n$个分类，${p_i}$表示第$k$类所在的比例，则集合$X$的熵定义为：\n",
    "\n",
    "$$Ent(X) =  - \\sum\\limits_{i = 1}^n {{p_i}} lo{g_2}{p_i}$$\n",
    "\n",
    "$Ent(X)$的值越趋近于0，表示$D$的纯度越高，越趋近于1，表示$D$的纯度越低。\n",
    "\n",
    "在ID3决策树算法中，采用信息增益作为选择最优分裂特征属性的标准。假设$A$是$X$中的一个离散型特征属性，包含$L$个可能取值，则根据属性$A$对$X$进行分裂可产生$L$个分支，第$i$个分支上获得的样本子集记为${X_i}$，我们可以根据上式计算出每一个分支下获得的分裂子集${X_i}$的熵，由于各子集${X_i}$的样本数量不同，我们在熵的基础上添加一个权重${{|{X_i}|} \\over {|X|}}$，也就是说，样本子集中样本数量越多，所占权重越大，以特征属性$A$作为分裂节点后的熵为："
   ]
  },
  {
   "cell_type": "markdown",
   "metadata": {},
   "source": [
    "$$En{t_A}(X) =  - \\sum\\limits_{i = 1}^L {{{|{X_i}|} \\over {|X|}}Ent({X_i})} $$"
   ]
  },
  {
   "cell_type": "markdown",
   "metadata": {},
   "source": [
    "特征属性$A$的信息增益定义为："
   ]
  },
  {
   "cell_type": "markdown",
   "metadata": {},
   "source": [
    "$$Gain(A) = Ent(X) - En{t_A}(X)$$"
   ]
  },
  {
   "cell_type": "markdown",
   "metadata": {},
   "source": [
    "属性$A$的信息增益$Gain(A)越大，表示使用属性$A$作为当前数据集的分裂节点对数据集“纯度”的提升越大。ID3算法选择最优分裂特征属性的策略就是每次选择信息增益最大的一个特征属性最为当前数据集的分裂特征属性，然后对每一个分支节点的数据子集重复迭代这一策略，直到数据子集都属于同一分类或者所有特征属性都已用完。"
   ]
  },
  {
   "cell_type": "markdown",
   "metadata": {},
   "source": [
    "我们已上面表格中用于判断同事是否是程序员的数据为例，通过实例感受一下ID3算法。"
   ]
  },
  {
   "cell_type": "markdown",
   "metadata": {},
   "source": [
    "首先计算整个数据集的熵："
   ]
  },
  {
   "cell_type": "markdown",
   "metadata": {},
   "source": [
    "$$Ent(X) =  - ({7 \\over {10}} \\times lo{g_2}{7 \\over {10}} + {3 \\over {10}} \\times lo{g_2}{3 \\over {10}}) = 0.88129$$"
   ]
  },
  {
   "cell_type": "markdown",
   "metadata": {},
   "source": [
    "采用属性$A$（是否穿格子衬衫）的作为分裂特征属性后的熵为："
   ]
  },
  {
   "cell_type": "markdown",
   "metadata": {},
   "source": [
    "$$En{t_A}(X) =  - \\{ {5 \\over {10}} \\times ({4 \\over 5} \\times lo{g_2}{4 \\over 5} + {1 \\over 5} \\times lo{g_2}{1 \\over 5}){\\rm{ + }}{5 \\over {10}} \\times ({3 \\over 5} \\times lo{g_2}{3 \\over 5} + {2 \\over 5} \\times lo{g_2}{2 \\over 5})\\}  = 0.84645$$"
   ]
  },
  {
   "cell_type": "markdown",
   "metadata": {},
   "source": [
    "那么，属性$A$的信息增益为："
   ]
  },
  {
   "cell_type": "markdown",
   "metadata": {},
   "source": [
    "$$Gain(A) = 0.88129 - 0.84645 = 0.034840$$"
   ]
  },
  {
   "cell_type": "markdown",
   "metadata": {},
   "source": [
    "用同样的方法可以计算出属性$B$（头发稀疏程度）和属性$C$（近视程度）的信息增益分别为："
   ]
  },
  {
   "cell_type": "markdown",
   "metadata": {},
   "source": [
    "$$En{t_B}(X) =  - \\{ {3 \\over {10}} \\times ({2 \\over 3} \\times lo{g_2}{2 \\over 3}{\\rm{ + }}{1 \\over 3} \\times lo{g_2}{1 \\over 3}) + {4 \\over {10}} \\times ({4 \\over 4} \\times lo{g_2}{4 \\over 4}{\\rm{ + }}0){\\rm{ + }}{3 \\over {10}} \\times ({1 \\over 3} \\times lo{g_2}{1 \\over 3}{\\rm{ + }}{2 \\over 3} \\times lo{g_2}{2 \\over 3})\\}  = 0.612197$$"
   ]
  },
  {
   "cell_type": "markdown",
   "metadata": {},
   "source": [
    "$$Gain(B) = 0.88129 - 0.61220 = 0.269093$$"
   ]
  },
  {
   "cell_type": "markdown",
   "metadata": {},
   "source": [
    "$$En{t_C}(X) =  - \\{ {3 \\over {10}} \\times ({3 \\over 3} \\times lo{g_2}{3 \\over 3}{\\rm{ + }}0) + {4 \\over {10}} \\times ({3 \\over 4} \\times lo{g_2}{3 \\over 4}{\\rm{ + }}{1 \\over 4} \\times lo{g_2}{1 \\over 4}){\\rm{ + }}{3 \\over {10}} \\times ({1 \\over 3} \\times lo{g_2}{1 \\over 3}{\\rm{ + }}{2 \\over 3} \\times lo{g_2}{2 \\over 3})\\}  = 0.6$$"
   ]
  },
  {
   "cell_type": "markdown",
   "metadata": {},
   "source": [
    "$$Gain(C) = 0.88129 - 0.6 = 0.28129$$"
   ]
  },
  {
   "cell_type": "markdown",
   "metadata": {},
   "source": [
    "对比三个属性的信息增益，显然属性$C$（近视程度）具有最大的信息增益，因此使用属性$C$作为当前分裂特征属性。"
   ]
  },
  {
   "cell_type": "markdown",
   "metadata": {},
   "source": [
    "使用属性$C$作为当前分支节点后，每个分支产生新的数据子集，对每个子集重复上述步骤计算各特征属性的信息增益，选择最优分裂特征属性，直到数据子集都属于同一分类或者所有特征属性都已用完，整个决策树就算构建好了。"
   ]
  },
  {
   "cell_type": "markdown",
   "metadata": {},
   "source": [
    "ID3算法是经典的决策树构建算法，结构简单清晰、灵活方便，但存在以下不足：\n",
    "\n",
    "（1）在选择最优分裂特征属性时，偏好于多取值的特征属性。在选择最优分裂特征属性时，某特征属性的取值越多，分裂后的数据子集就越多，子集中类别相对而言就可能更少，数据“纯度”更高，信息增益更大，所以更有可能被选为当前分裂节点的特征属性。如果还不理解，那么，我们将这种情况极端化，数据集中都有一个ID属性，如果以ID作为分裂特征属性计算信息增益时，每一条数据都是一个分裂，那么多有分裂的分裂后的熵都是0，多以信息增益一定是1，一定会被选为最优分裂特征属性。\n",
    "\n",
    "（2）不能处理连续型特征属性。\n",
    "\n",
    "（3）没有树剪枝过程，容易发生过拟合现象。\n",
    "\n",
    "针对ID3决策树算法的不足，有大能进行优化改进，于是就有了C4.5决策树算法。"
   ]
  },
  {
   "cell_type": "markdown",
   "metadata": {},
   "source": [
    "# 3 C4.5决策树算法"
   ]
  },
  {
   "cell_type": "markdown",
   "metadata": {},
   "source": [
    "C4.5决策树算法是在ID3决策树算法基础上发展而来，所以总体而言，两者是极其相似的。当然，既然说发展，就肯定有更进一步改进的内容。"
   ]
  },
  {
   "cell_type": "markdown",
   "metadata": {},
   "source": [
    "（1）信息增益率"
   ]
  },
  {
   "cell_type": "markdown",
   "metadata": {},
   "source": [
    "上文提过，ID3决策树算法在选择最优分裂特征属性时，偏好于多取值的特征属性，针对这一问题，C4.5决策树算法不再以信息增益作为选择选最优分裂特征属性的标准，而在选择在信息增益基础上更进一步计算获得的信息增益率作为选择最优分裂特征属性的标准。\n",
    "\n",
    "在介绍信息增益率之前，还得说说“内部信息”的定义:"
   ]
  },
  {
   "cell_type": "markdown",
   "metadata": {},
   "source": [
    "$$Instr\\_inf{o_A} =  - \\sum\\limits_{i = 1}^L {{{|{X_i}|} \\over {|X|}}} lo{g_2}({{|{X_i}|} \\over {|X|}})$$"
   ]
  },
  {
   "cell_type": "markdown",
   "metadata": {},
   "source": [
    "内部信息$Instr\\_inf{o_A}$用于度量属性$A$进行分裂时分支的数量信息和尺寸信息，属性$A$的取值数量越多，分支越多$Instr\\_inf{o_A}$就越大，${1 \\over {Instr\\_inf{o_A}}}$就越小，因此可以将${1 \\over {Instr\\_inf{o_A}}}$作为一个惩罚因子与信息增益相结合，于是有了信息增益率："
   ]
  },
  {
   "cell_type": "markdown",
   "metadata": {},
   "source": [
    "$$Gain\\_ratio(A) = {{Gain(A)} \\over {Instr\\_inf{o_A}}}$$"
   ]
  },
  {
   "cell_type": "markdown",
   "metadata": {},
   "source": [
    "用信息增益率替代信息增益作为最优分裂特征属性的选择标准，就可以很好的解决ID3决策树算法在选择最优分裂特征属性时，偏好于多取值的特征属性的问题。"
   ]
  },
  {
   "cell_type": "markdown",
   "metadata": {},
   "source": [
    "（2）连续型特征属性处理"
   ]
  },
  {
   "cell_type": "markdown",
   "metadata": {},
   "source": [
    "对于连续型特征属性，C4.5算法采用的策略是采用二分法将特征属性离散化。假设数据集$X$中属性$A$有$n$个不同取值，我们先将其按升序排序得到集合$\\{ {a_1},{a_2}, \\cdots ,{a_n}\\} $，将每两个相邻元素的中间点$t = {{{a_i} + {a_{i + 1}}} \\over 2}$看做潜在分裂点，于是有$n-1$个潜在的分裂点，每一个潜在分裂点都可以将数据集划分为不大于$t$和大于$t$两类，对每一个潜在分裂点计算信息增益，然后选择信息增益最大的一个潜在分裂点作为当前的最优划分点。"
   ]
  },
  {
   "cell_type": "markdown",
   "metadata": {},
   "source": [
    "在计算各特征属性的信息增益率时，就可以用最优划分点二分离散化之后的$A$属性来计算信息增益率。"
   ]
  },
  {
   "cell_type": "markdown",
   "metadata": {},
   "source": [
    "对于缺失值处理和树剪枝，又是一个大话题了，可以参考[这篇文档](https://blog.csdn.net/zhihua_oba/article/details/70632622)，本文不再叙述。"
   ]
  }
 ],
 "metadata": {
  "kernelspec": {
   "display_name": "study_python",
   "language": "python",
   "name": "study_python"
  },
  "language_info": {
   "codemirror_mode": {
    "name": "ipython",
    "version": 3
   },
   "file_extension": ".py",
   "mimetype": "text/x-python",
   "name": "python",
   "nbconvert_exporter": "python",
   "pygments_lexer": "ipython3",
   "version": "3.7.4"
  }
 },
 "nbformat": 4,
 "nbformat_minor": 2
}
