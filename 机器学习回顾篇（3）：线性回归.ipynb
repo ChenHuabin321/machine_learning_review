{
 "cells": [
  {
   "cell_type": "markdown",
   "metadata": {},
   "source": [
    "# 1 引言"
   ]
  },
  {
   "cell_type": "markdown",
   "metadata": {},
   "source": [
    "线性回归算法应该是大多数人机器学习之路上的第一站，因为线性回归算法原理简单清晰，但却囊括了拟合、优化等等经典的机器学习思想。去年毕业时参加求职面试就被要求介绍线性回归算法，但由于当初过于追求神经网络、SVN、无监督学习等更加高大尚的算法，反而忽略了线性回归这些基础算法，当时给出的答案实在是差强人意。\n",
    "\n",
    "这一篇关于线性回归的总结我也犹豫过要不要写，如果你看了我上两篇关于最小二乘和梯度下降算法介绍的博客，你就会发现，关于最小二乘法和梯度下降算法的介绍都是以线性回归为例展开，所以，综合来说，之前两篇博客对一元线性回归还是多元线性回归算法都已经有了还算全面的总结，再写一篇关于线性回归的文章总感觉有些多余。不过，为了让我对机器学习的总结更加系统，还是决定专门总结一下。"
   ]
  },
  {
   "cell_type": "markdown",
   "metadata": {},
   "source": [
    "# 2 什么是线性回归"
   ]
  },
  {
   "cell_type": "markdown",
   "metadata": {},
   "source": [
    "说到线性回归，我们得先说说回归与分类、线性与非线性这些概念的区别。\n",
    "\n",
    "回归和分类都是有监督学习（机器学习分有监督学习和无监督学习）中的概念。从算法的目标或者作用上看，分类的目标就如同字面上的意思，就是分类，将数据分门别类，而且类别是有限的（数学上称为离散的）。但回归算法不同，回归算法的目标是预测，说详细些就是从已有数据和结果中获取规律，对其它数据的位置结果进行预测，预测结果的数量数无限的（数学上叫连续的）。举个例子我们可以根据楼房的建材、面积、用途将茅草房、普通住房、厂房等等有限的几类，这就是分类；另外，我们可以根据房屋面积、地段、装修等因素对楼房房价进行预测，预测结果有无限种可能，可能是10000元/平米，也能是10001.1元/平米——这就是回归的过程。\n",
    "\n",
    "对于线性和非线性的解释，我至今还没有见到过一个让我觉得满意的数学定义，所以，我也从直观认识上说说我的看法。我们高中时学习函数就是从一元一次函数学起的，一元一次函数在数学上可以表示为："
   ]
  },
  {
   "cell_type": "markdown",
   "metadata": {},
   "source": [
    "$$f(x)={{\\theta }_{0}}+{{\\theta }_{1}}x$$"
   ]
  },
  {
   "cell_type": "markdown",
   "metadata": {},
   "source": [
    "在二维坐标轴上，其表现为一条直线。如果是三维空间中的二元一次函数，数学上表示为："
   ]
  },
  {
   "cell_type": "markdown",
   "metadata": {},
   "source": [
    "$$f(x)={{\\theta }_{0}}+{{\\theta }_{1}}{{x}_{1}}+{{\\theta }_{2}}{{x}_{2}}$$"
   ]
  },
  {
   "cell_type": "markdown",
   "metadata": {},
   "source": [
    "其在空间上图形为一平面。以此类推，在更高维（$n$维)的平面上，多元一次函数表达式为："
   ]
  },
  {
   "cell_type": "markdown",
   "metadata": {},
   "source": [
    "$$f(x)={{\\theta }_{0}}+{{\\theta }_{1}}{{x}_{1}}+{{\\theta }_{2}}{{x}_{2}}+\\ldots +{{\\theta }_{n}}{{x}_{n}}$$"
   ]
  },
  {
   "cell_type": "markdown",
   "metadata": {},
   "source": [
    "在多维空间上，其图形我们称为为超平面。\n",
    "\n",
    "如果一个数据模型能够用上述二维直线、三维平面或者更多维空间上的超平面去拟合，我们就可以说这个模型是线性模型。\n",
    "\n",
    "最后，综合上面内容总结一下什么是西安线性回归：\n",
    "\n",
    "**线性回归（Linear Regression）是一种通过属性的线性组合来进行预测的回归模型，其目的是找到一条直线或者一个平面或者更高维的超平面，使得预测值与真实值之间的误差最小化。**"
   ]
  },
  {
   "cell_type": "markdown",
   "metadata": {},
   "source": [
    "# 3 最优解"
   ]
  },
  {
   "cell_type": "markdown",
   "metadata": {},
   "source": [
    "上面提到，线性回归的目的就是找到一个线性模型，使的预测值与真实值之间的误差最小，这就是一个优化的问题。为什么要优化呢？看看下图："
   ]
  },
  {
   "cell_type": "markdown",
   "metadata": {},
   "source": [
    "![image](data:image/png;base64,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)"
   ]
  },
  {
   "cell_type": "markdown",
   "metadata": {},
   "source": [
    "正如你眼前所见，图中的点代表数据，能够对这些数据点进行大概拟合的直线不止一条，到底哪一条才是最好呢？以上图中数据为例，假设此时模型为${y}'=f(x)={{\\theta }_{0}}+{{\\theta }_{1}}{{x}_{1}}$，图像如下所示，我们要对其拟合程度进行评价："
   ]
  },
  {
   "cell_type": "markdown",
   "metadata": {},
   "source": [
    "![image](data:image/png;base64,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)"
   ]
  },
  {
   "cell_type": "markdown",
   "metadata": {},
   "source": [
    "点$A({{x}_{i}},{{y}_{i}})$为数据集中某一点，使用模型预测时，结果为${A}'({{x}_{i}},{{{{y}'}}_{i}})$。我们用高中时学过，对于${A}$与${A}'$之间的误差，我们可以用它们之间的欧氏距离的平方来表示："
   ]
  },
  {
   "cell_type": "markdown",
   "metadata": {},
   "source": [
    "$$E(A,{A}')={{({{x}_{i}}-{{x}_{i}})}^{2}}+{{({{y}_{i}}-{{y}_{i}})}^{2}}={{({{\\theta }_{0}}+{{\\theta }_{1}}{{x}_{i}}-{{y}_{i}})}^{2}}$$"
   ]
  },
  {
   "cell_type": "markdown",
   "metadata": {},
   "source": [
    "这是对一个点的拟合程度评价，但数据集中可不止$A({{x}_{i}},{{y}_{i}})$一个数据点，所以，我们需要对每个点进行误差评估，然后求和，也就是误差平方和作为这个线性模型对数据集的总体拟合程度评估："
   ]
  },
  {
   "cell_type": "markdown",
   "metadata": {},
   "source": [
    "$$J({{\\theta }_{0}},{{\\theta }_{1}})=\\sum\\limits_{i=1}^{m}{{{({{\\theta }_{0}}+{{\\theta }_{1}}{{x}_{i}}-{{y}_{i}})}^{2}}}$$"
   ]
  },
  {
   "cell_type": "markdown",
   "metadata": {},
   "source": [
    "我们将$J({{\\theta }_{0}},{{\\theta }_{1}})$成为损失函数，也有资料中称为目标函数。这里，${{\\theta }_{0}},{{\\theta }_{1}}$是模型中$x$的参数。在不同的模型中，${{\\theta }_{0}},{{\\theta }_{1}}$取不同值，我们要做的就是求目标函数$J({{\\theta }_{0}},{{\\theta }_{1}})$取最小值时的${{\\theta }_{0}},{{\\theta }_{1}}$确切值，换句话说就是求$J({{\\theta }_{0}},{{\\theta }_{1}})$的最优解问题。\n",
    "\n",
    "关于求最优解问题，最常用的算法就是最小二乘法和梯度下降法，这两种方法在前两篇博文中都有详细介绍，如果你尚不清楚其中原理和过程，还是去看看吧，这很重要，也很基础。\n",
    "\n",
    "上面说的是一元线性回归模型，对于多元线性回归模型，原理也是一样的，只不过需要求解的参数不止${{\\theta }_{0}},{{\\theta }_{1}}$两个了就是，这里不再多说。下面我们用代码实现一元线性回归模型。"
   ]
  },
  {
   "cell_type": "markdown",
   "metadata": {},
   "source": [
    "# 4 代码实现"
   ]
  },
  {
   "cell_type": "markdown",
   "metadata": {},
   "source": [
    "# 4.1 pytorch实现"
   ]
  },
  {
   "cell_type": "markdown",
   "metadata": {},
   "source": [
    "在实现模型之前，首先我们要制造一个数据集，在[0, 10]区间范围内，随机生成100个数："
   ]
  },
  {
   "cell_type": "code",
   "execution_count": 1,
   "metadata": {},
   "outputs": [
    {
     "name": "stdout",
     "output_type": "stream",
     "text": [
      "tensor([[0.0000],\n",
      "        [0.1010],\n",
      "        [0.2020],\n",
      "        [0.3030],\n",
      "        [0.4040],\n",
      "        [0.5051],\n",
      "        [0.6061],\n",
      "        [0.7071],\n",
      "        [0.8081],\n",
      "        [0.9091]])\n"
     ]
    }
   ],
   "source": [
    "import torch\n",
    "from torch.autograd import Variable\n",
    "from torch import nn\n",
    "import matplotlib.pyplot as plt\n",
    "x = torch.unsqueeze(torch.linspace(0, 10, 100), dim=1)\n",
    "print(x[:10])"
   ]
  },
  {
   "cell_type": "markdown",
   "metadata": {},
   "source": [
    "输出的内容有100行，这就是一个列向量，我们以则100个数作为数据集中的自变量，也就是X，假设我们需要拟合的模型为：$y=f(x)=0.5x+15$，为了更加符合真实数据集中随机误差的效果，我们在生成y的时候，加上一些服从高斯分布随机误差："
   ]
  },
  {
   "cell_type": "code",
   "execution_count": 2,
   "metadata": {},
   "outputs": [
    {
     "name": "stdout",
     "output_type": "stream",
     "text": [
      "tensor([[15.8144],\n",
      "        [15.7983],\n",
      "        [15.1210],\n",
      "        [15.3061],\n",
      "        [15.4152],\n",
      "        [15.5577],\n",
      "        [15.3078],\n",
      "        [15.8151],\n",
      "        [15.9422],\n",
      "        [15.4746]])\n"
     ]
    }
   ],
   "source": [
    "y = 0.5 * x + 15 + torch.rand(x.size())\n",
    "print(y[:10])"
   ]
  },
  {
   "cell_type": "markdown",
   "metadata": {},
   "source": [
    "在二维坐标轴上，这些点如下所示："
   ]
  },
  {
   "cell_type": "code",
   "execution_count": 3,
   "metadata": {},
   "outputs": [
    {
     "data": {
      "image/png": "[encoded data removed]",
      "text/plain": [
       "<Figure size 432x288 with 1 Axes>"
      ]
     },
     "metadata": {
      "needs_background": "light"
     },
     "output_type": "display_data"
    }
   ],
   "source": [
    "x = torch.unsqueeze(torch.linspace(0, 10, 100), dim=1)\n",
    "y = 0.5 * x + 15 + torch.rand(x.size())\n",
    "\n",
    "plt.scatter(x.data.numpy(), y.data.numpy())\n",
    "plt.show()"
   ]
  },
  {
   "cell_type": "markdown",
   "metadata": {},
   "source": [
    "数据有了，我们可以开始搭建我们的模型了："
   ]
  },
  {
   "cell_type": "code",
   "execution_count": 4,
   "metadata": {},
   "outputs": [
    {
     "name": "stdout",
     "output_type": "stream",
     "text": [
      "Epoch[100/1000], loss:19.743334\n",
      "Epoch[200/1000], loss:7.338920\n",
      "Epoch[300/1000], loss:2.753949\n",
      "Epoch[400/1000], loss:1.059233\n",
      "Epoch[500/1000], loss:0.432826\n",
      "Epoch[600/1000], loss:0.201291\n",
      "Epoch[700/1000], loss:0.115709\n",
      "Epoch[800/1000], loss:0.084075\n",
      "Epoch[900/1000], loss:0.072383\n",
      "Epoch[1000/1000], loss:0.068061\n"
     ]
    },
    {
     "data": {
      "image/png": "[encoded data removed]",
      "text/plain": [
       "<Figure size 432x288 with 1 Axes>"
      ]
     },
     "metadata": {
      "needs_background": "light"
     },
     "output_type": "display_data"
    },
    {
     "name": "stdout",
     "output_type": "stream",
     "text": [
      "tensor([[0.5128]])\ttensor([15.3651])\n"
     ]
    }
   ],
   "source": [
    "class LinearRegression(nn.Module):\n",
    "    def __init__(self):\n",
    "        super(LinearRegression, self).__init__()\n",
    "        self.linear = nn.Linear(1, 1)  # 因为是一元线性回归，所以输入和输出的维度都是1\n",
    "    def forward(self, x):\n",
    "        out = self.linear(x)\n",
    "        return out\n",
    "\n",
    "\n",
    "if torch.cuda.is_available():\n",
    "    model = LinearRegression().cuda()\n",
    "else:\n",
    "    model = LinearRegression()\n",
    "\n",
    "criterion = nn.MSELoss()  # 这里选择使用误差平方和作为损失函数，就是上文中说的函数J\n",
    "optimizer = torch.optim.SGD(model.parameters(), lr=1e-2)  # 定义梯度下降算法进行优化\n",
    "\n",
    "\n",
    "num_epochs = 1000  # 定义迭代次数\n",
    "for epoch in range(num_epochs):\n",
    "    if torch.cuda.is_available():\n",
    "        inputs = Variable(x).cuda()\n",
    "        target = Variable(y).cuda()\n",
    "    else:\n",
    "        inputs = Variable(x)\n",
    "        target = Variable(y)\n",
    "    # 向前传播\n",
    "    out = model(inputs)\n",
    "    loss = criterion(out, target)\n",
    "    # 向后传播\n",
    "    optimizer.zero_grad()  # 注意每次迭代都需要清零\n",
    "    loss.backward()\n",
    "    optimizer.step()\n",
    "    if (epoch + 1) % 100 == 0:\n",
    "        print('Epoch[{}/{}], loss:{:.6f}'.format(epoch + 1, num_epochs, loss.item()))\n",
    "model.eval()\n",
    "if torch.cuda.is_available():\n",
    "    predict = model(Variable(x).cuda())\n",
    "    predict = predict.data.cpu().numpy()\n",
    "else:\n",
    "    predict = model(Variable(x))\n",
    "    predict = predict.data.numpy()\n",
    "plt.plot(x.numpy(), y.numpy(), 'ro', label='Original Data')\n",
    "plt.plot(x.numpy(), predict, label='Fitting Line')\n",
    "plt.show()\n",
    "print(str(model.state_dict()['linear.weight']) + \"\\t\" + str(model.state_dict()['linear.bias']))"
   ]
  },
  {
   "cell_type": "markdown",
   "metadata": {},
   "source": [
    "# 4.2 TensorFlow2.0实现"
   ]
  },
  {
   "cell_type": "code",
   "execution_count": 1,
   "metadata": {},
   "outputs": [],
   "source": [
    "import tensorflow as tf"
   ]
  },
  {
   "cell_type": "code",
   "execution_count": 39,
   "metadata": {},
   "outputs": [
    {
     "data": {
      "text/plain": [
       "<tf.Tensor: id=205629, shape=(100,), dtype=float32, numpy=\n",
       "array([ 0.       ,  0.1010101,  0.2020202,  0.3030303,  0.4040404,\n",
       "        0.5050505,  0.6060606,  0.7070707,  0.8080808,  0.9090909,\n",
       "        1.010101 ,  1.111111 ,  1.2121212,  1.3131313,  1.4141414,\n",
       "        1.5151515,  1.6161616,  1.7171717,  1.8181818,  1.9191918,\n",
       "        2.020202 ,  2.121212 ,  2.222222 ,  2.3232322,  2.4242425,\n",
       "        2.5252526,  2.6262627,  2.7272727,  2.8282828,  2.929293 ,\n",
       "        3.030303 ,  3.131313 ,  3.2323232,  3.3333333,  3.4343433,\n",
       "        3.5353534,  3.6363635,  3.7373736,  3.8383837,  3.9393938,\n",
       "        4.040404 ,  4.141414 ,  4.242424 ,  4.3434343,  4.444444 ,\n",
       "        4.5454545,  4.6464643,  4.7474747,  4.848485 ,  4.949495 ,\n",
       "        5.050505 ,  5.151515 ,  5.2525253,  5.353535 ,  5.4545455,\n",
       "        5.5555553,  5.6565657,  5.7575755,  5.858586 ,  5.9595957,\n",
       "        6.060606 ,  6.161616 ,  6.262626 ,  6.363636 ,  6.4646463,\n",
       "        6.5656567,  6.6666665,  6.767677 ,  6.8686867,  6.969697 ,\n",
       "        7.070707 ,  7.171717 ,  7.272727 ,  7.3737373,  7.474747 ,\n",
       "        7.5757575,  7.6767673,  7.7777777,  7.8787875,  7.979798 ,\n",
       "        8.080808 ,  8.181818 ,  8.282828 ,  8.383839 ,  8.484848 ,\n",
       "        8.585858 ,  8.686869 ,  8.787879 ,  8.888888 ,  8.989899 ,\n",
       "        9.090909 ,  9.191919 ,  9.292929 ,  9.393939 ,  9.494949 ,\n",
       "        9.59596  ,  9.69697  ,  9.797979 ,  9.89899  , 10.       ],\n",
       "      dtype=float32)>"
      ]
     },
     "execution_count": 39,
     "metadata": {},
     "output_type": "execute_result"
    }
   ],
   "source": [
    "x = tf.linspace(0.,10.,100)\n",
    "x"
   ]
  },
  {
   "cell_type": "code",
   "execution_count": 41,
   "metadata": {
    "scrolled": true
   },
   "outputs": [
    {
     "name": "stdout",
     "output_type": "stream",
     "text": [
      "tf.Tensor(\n",
      "[16.014685  15.187728  16.314163  16.360064  16.853842  17.226461\n",
      " 15.9778385 16.685257  16.884115  16.397228 ], shape=(10,), dtype=float32)\n"
     ]
    }
   ],
   "source": [
    "y = 0.5 * x + 15 + tf.random.truncated_normal((100,), mean=1, stddev=0.5)\n",
    "print(y[:10])"
   ]
  },
  {
   "cell_type": "code",
   "execution_count": 42,
   "metadata": {},
   "outputs": [
    {
     "data": {
      "image/png": "[encoded data removed]",
      "text/plain": [
       "<Figure size 432x288 with 1 Axes>"
      ]
     },
     "metadata": {
      "needs_background": "light"
     },
     "output_type": "display_data"
    }
   ],
   "source": [
    "import matplotlib.pyplot as plt\n",
    "plt.scatter(x.numpy(), y.numpy())\n",
    "plt.show()"
   ]
  },
  {
   "cell_type": "code",
   "execution_count": 43,
   "metadata": {},
   "outputs": [],
   "source": [
    "import numpy as np\n",
    "# 模型中的两个参数\n"
   ]
  },
  {
   "cell_type": "code",
   "execution_count": 48,
   "metadata": {},
   "outputs": [
    {
     "name": "stdout",
     "output_type": "stream",
     "text": [
      "epoch : 0    loss: tf.Tensor(292.91647, shape=(), dtype=float32)    w: 1.7383862    b: 2.0522277\n",
      "epoch : 100    loss: tf.Tensor(18.258339, shape=(), dtype=float32)    w: 1.7545552    b: 7.595278\n",
      "epoch : 200    loss: tf.Tensor(6.849392, shape=(), dtype=float32)    w: 1.2592618    b: 10.889324\n",
      "epoch : 300    loss: tf.Tensor(2.6323707, shape=(), dtype=float32)    w: 0.95813954    b: 12.891996\n",
      "epoch : 400    loss: tf.Tensor(1.0736642, shape=(), dtype=float32)    w: 0.7750678    b: 14.109551\n",
      "epoch : 500    loss: tf.Tensor(0.4975283, shape=(), dtype=float32)    w: 0.66376615    b: 14.849785\n",
      "epoch : 600    loss: tf.Tensor(0.28457418, shape=(), dtype=float32)    w: 0.5960984    b: 15.299823\n",
      "epoch : 700    loss: tf.Tensor(0.20585985, shape=(), dtype=float32)    w: 0.5549578    b: 15.573437\n",
      "epoch : 800    loss: tf.Tensor(0.17676613, shape=(), dtype=float32)    w: 0.5299465    b: 15.7397785\n",
      "epoch : 900    loss: tf.Tensor(0.16601223, shape=(), dtype=float32)    w: 0.5147401    b: 15.840912\n",
      "last weight w=0.5055667161941528 and b=15.901921272277832\n"
     ]
    }
   ],
   "source": [
    "import numpy as np\n",
    " \n",
    "\n",
    "w = tf.Variable(np.random.randn(), name=\"weight\")\n",
    "b = tf.Variable(np.random.randn(), name=\"bias\")\n",
    "\n",
    "learning_rate = 0.01  # 学习率\n",
    "# 所有样本训练的次数\n",
    "epoch_number = 1000  # 迭代次数\n",
    "optimizer = tf.optimizers.SGD(learning_rate)  #优化器\n",
    "# 开始训练\n",
    "for epoch in range(epoch_number):\n",
    "    with tf.GradientTape() as g:\n",
    "        pred = w*x + b\n",
    "        loss = tf.losses.MSE(pred, y)  # 计算均方差损失\n",
    "    # 计算梯度\n",
    "    gradients = g.gradient(loss, [w, b])\n",
    "    # 更新参数\n",
    "    optimizer.apply_gradients(zip(gradients, [w, b]))\n",
    "\n",
    "    if epoch % 100 == 0:\n",
    "        print('epoch :',epoch, '   loss:', loss, '   w:', w.numpy(), '   b:', b.numpy())\n",
    "# 对所有样本迭代完1000次后 输出最后的w,b\n",
    "print('last weight w={0} and b={1}'.format(w.numpy(),b.numpy()))"
   ]
  },
  {
   "cell_type": "code",
   "execution_count": 47,
   "metadata": {},
   "outputs": [
    {
     "data": {
      "image/png": "[encoded data removed]",
      "text/plain": [
       "<Figure size 432x288 with 1 Axes>"
      ]
     },
     "metadata": {
      "needs_background": "light"
     },
     "output_type": "display_data"
    }
   ],
   "source": [
    "plt.plot(x.numpy(), y.numpy(), 'ro')\n",
    "plt.plot(x.numpy(), w.numpy()*x+b.numpy())\n",
    "plt.show()"
   ]
  }
 ],
 "metadata": {
  "kernelspec": {
   "display_name": "tensorflow_gpu",
   "language": "python",
   "name": "tensorflow_gpu"
  },
  "language_info": {
   "codemirror_mode": {
    "name": "ipython",
    "version": 3
   },
   "file_extension": ".py",
   "mimetype": "text/x-python",
   "name": "python",
   "nbconvert_exporter": "python",
   "pygments_lexer": "ipython3",
   "version": "3.7.4"
  }
 },
 "nbformat": 4,
 "nbformat_minor": 2
}
