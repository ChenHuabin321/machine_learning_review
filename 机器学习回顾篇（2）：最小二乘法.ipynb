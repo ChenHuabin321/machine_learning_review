{
 "cells": [
  {
   "cell_type": "markdown",
   "metadata": {},
   "source": [
    "# 1 引言"
   ]
  },
  {
   "cell_type": "markdown",
   "metadata": {},
   "source": [
    "在机器学习常用的优化算法中，梯度下降法和最小二乘法占尽了风骚。梯度下降法上一篇中已经详细介绍过了，那么这一篇，我们继续说一说最小二乘法。"
   ]
  },
  {
   "cell_type": "markdown",
   "metadata": {},
   "source": [
    "# 2 什么是最小二乘法"
   ]
  },
  {
   "cell_type": "markdown",
   "metadata": {},
   "source": [
    "在描述度量模型准确程度方面有多种不同的方法：\n",
    "\n",
    "（1）误差和最小化。这种方法存在的问题是正负误差会相互抵消，导致描述不准确。\n",
    "\n",
    "（2）误差绝对值最小化。这个方法在描述上面有问题，但是计算机上运算很复杂。\n",
    "\n",
    "（3）误差平方和最小化。这也是最小二乘法根本思想所在，不仅有效避免正负误差抵消，而且运算上也简单。"
   ]
  },
  {
   "cell_type": "markdown",
   "metadata": {},
   "source": [
    "在字面上，我们将“最小二乘”拆分成两个词语，就是“最小”和“二乘”。其中，“二乘”指的就是以平方的方式来衡量预测值与实际值之间的差异，也就是误差平方。“最小”就好理解了，就是说预测模型中各参数要使得预测值与实际值之间的误差平方和最小。\n",
    "\n",
    "要说最小二乘法的定义，总结多方面资料，我认为分为两派：\n",
    "\n",
    "一类是广义上的最小二乘法。这一类的最小二乘法泛指所有使用均方误差和方法来衡量差异程度进而求最优值得方法，这一类方法并不关注如何求最优解，只要使用了均方误差和作为目标函数，就算法最小二乘法，从这种角度来说，最小二乘法是一种优化思想，而梯度下降法只是最小二乘法的一个分支，一种具体实现。\n",
    "\n",
    "另一派是狭义上的最小二乘法：这一类的最小二乘法不但使用均方误差和最为目标函数，且在求最优解时使用的是对应推导出的矩阵运算解法。\n",
    "\n",
    "本文中，指的是狭义上的最小二乘法。"
   ]
  },
  {
   "cell_type": "markdown",
   "metadata": {},
   "source": [
    "# 3 求解过程"
   ]
  },
  {
   "cell_type": "markdown",
   "metadata": {},
   "source": [
    "最小二乘法具体怎么求解呢？我们先以一元线性模型为例来说明。\n",
    "\n",
    "假设有一组数据$X=\\{({{x}_{1}},{{y}_{1}},\\cdots ,({{x}_{m}},{{y}_{m}})\\}$，我们希望求出对应的一元线性模型来拟合这一组数据：\n",
    "\n",
    "$$y={{\\beta }_{0}}+{{\\beta }_{1}}x$$"
   ]
  },
  {
   "cell_type": "markdown",
   "metadata": {},
   "source": [
    "既然要拟合，总要有一个拟合程度高低的判断标准，上文说到，最小二乘法中使用的就是误差平方和方法，所以，这时候损失函数，或者说我们的目标函数就是：\n",
    "\n",
    "$$J(\\beta )=\\sum\\limits_{i=0}^{m}{{{({{y}_{i}}-{{\\beta }_{1}}{{x}_{i}}-{{\\beta }_{0}})}^{2}}}=\\sum\\limits_{i=0}^{m}{{{(f({{x}_{i}})-{{\\beta }_{1}}{{x}_{i}}-{{\\beta }_{0}})}^{2}}}$$\n",
    "\n",
    "有了这个目标函数，我们要做的就是求出${{\\beta }_{0}}$和${{\\beta }_{1}}$使得$J(\\beta )$最小，在这里就是极小值。"
   ]
  },
  {
   "cell_type": "markdown",
   "metadata": {},
   "source": [
    "上一篇中我们说到，求极值的一个很好的方法就是求导，在这里因为有多个参数，所以，我们要分别对${{\\beta }_{0}}$和${{\\beta }_{1}}$求偏导：\n",
    "\n",
    "$$\\frac{\\partial J(\\beta )}{\\partial {{\\beta }_{1}}}=\\sum\\limits_{i=0}^{m}{2({{y}_{i}}-{{\\beta }_{1}}{{x}_{i}}-{{\\beta }_{0}})(-{{x}_{i}})}=2\\sum\\limits_{i=0}^{m}{({{\\beta }_{1}}x_{i}^{2}-{{\\beta }_{0}}{{x}_{i}}-{{x}_{i}}{{y}_{i}})}$$\n",
    "\n",
    "$$\\frac{\\partial J(\\beta )}{\\partial {{\\beta }_{0}}}=\\sum\\limits_{i=0}^{m}{2({{y}_{i}}-{{\\beta }_{1}}{{x}_{i}}-{{\\beta }_{0}})(-1)}=2\\sum\\limits_{i=0}^{m}{({{\\beta }_{1}}{{x}_{i}}+{{\\beta }_{0}}-{{y}_{i}})(-1)}=2(m{{\\beta }_{1}}\\frac{\\sum\\limits_{1}^{m}{{{x}_{i}}}}{m}+m{{\\beta }_{0}}-m\\frac{\\sum\\limits_{1}^{m}{{{y}_{i}}}}{m})$$\n",
    "\n",
    "因为$\\bar{x}=\\frac{\\sum\\limits_{1}^{m}{{{x}_{i}}}}{m}$,$\\bar{y}=\\frac{\\sum\\limits_{1}^{m}{{{y}_{i}}}}{m}$, 所以，上面第二个，也就是对${{\\beta }_{0}}$的偏导可以转化为："
   ]
  },
  {
   "cell_type": "markdown",
   "metadata": {},
   "source": [
    "$$\\frac{\\partial J(\\beta )}{\\partial {{\\beta }_{0}}}=2(m{{\\beta }_{1}}\\bar{x}+m{{\\beta }_{0}}-m\\bar{y})$$"
   ]
  },
  {
   "cell_type": "markdown",
   "metadata": {},
   "source": [
    "我们知道，目标函数取得极值时，偏导一定是等于0的，所以，我们令$\\frac{\\partial J(\\beta )}{\\partial {{\\beta }_{0}}}$等于0，于是有："
   ]
  },
  {
   "cell_type": "markdown",
   "metadata": {},
   "source": [
    "$$2(m{{\\beta }_{1}}\\bar{x}+m{{\\beta }_{0}}-m\\bar{y})=0$$\n",
    "\n",
    "$${{\\beta }_{0}}=\\bar{y}-{{\\beta }_{1}}\\bar{x}$$"
   ]
  },
  {
   "cell_type": "markdown",
   "metadata": {},
   "source": [
    "接着，我们继续回到上面第一个偏导，也就是对${{\\beta }_{1}}$的偏导$\\frac{\\partial J(\\beta )}{\\partial {{\\beta }_{1}}}$，令$\\frac{\\partial J(\\beta )}{\\partial {{\\beta }_{1}}}=0$，并将${{\\beta }_{0}}=\\bar{y}-{{\\beta }_{1}}\\bar{x}$代入，得："
   ]
  },
  {
   "cell_type": "markdown",
   "metadata": {},
   "source": [
    "$$2\\sum\\limits_{i=0}^{m}{({{\\beta }_{1}}x_{i}^{2}-(\\bar{y}-{{\\beta }_{1}}\\bar{x}){{x}_{i}}-{{x}_{i}}{{y}_{i}})}=0$$"
   ]
  },
  {
   "cell_type": "markdown",
   "metadata": {},
   "source": [
    "在这一等式中，只有${{\\beta }_{1}}$是位置数，所以，我们可以很简单得通过移项求解，最终可得："
   ]
  },
  {
   "cell_type": "markdown",
   "metadata": {},
   "source": [
    "$${{\\beta }_{1}}=\\frac{\\sum\\limits_{1}^{m}{({{x}_{i}}-\\bar{x})({{y}_{i}}-\\bar{y})}}{\\sum\\limits_{1}^{m}{{{({{x}_{i}}-\\bar{x})}^{2}}}}$$"
   ]
  },
  {
   "cell_type": "markdown",
   "metadata": {},
   "source": [
    "这就是${{\\beta }_{1}}$代入${{\\beta }_{0}}=\\bar{y}-{{\\beta }_{1}}\\bar{x}$，就可以求得${{\\beta }_{0}}$，这样，${{\\beta }_{0}}$和${{\\beta }_{1}}$就都求出来了。\n",
    "\n",
    "继续，我们尝试求解更一般化的多元线性情况。对于多元的情况，需要使用矩阵运算来求解，先用矩阵表示："
   ]
  },
  {
   "cell_type": "markdown",
   "metadata": {},
   "source": [
    "$$X\\beta =y$$"
   ]
  },
  {
   "cell_type": "markdown",
   "metadata": {},
   "source": [
    "其中，$X=\\left[ \\begin{matrix}\n",
    "   1 & {{x}_{12}} & \\cdots  & {{x}_{1m}}  \\\\\n",
    "   1 & {{x}_{22}} & \\cdots  & {{x}_{2m}}  \\\\\n",
    "   \\cdots  & \\cdots  & \\cdots  & \\cdots   \\\\\n",
    "   1 & {{x}_{n2}} & \\cdots  & {{x}_{nm}}  \\\\\n",
    "\\end{matrix} \\right],\\beta =\\left[ \\begin{matrix}\n",
    "   {{\\beta }_{0}}  \\\\\n",
    "   {{\\beta }_{1}}  \\\\\n",
    "   \\cdots   \\\\\n",
    "   {{\\beta }_{m}}  \\\\\n",
    "\\end{matrix} \\right],y=\\left[ \\begin{matrix}\n",
    "   {{y}_{0}}  \\\\\n",
    "   {{y}_{1}}  \\\\\n",
    "   \\cdots   \\\\\n",
    "   {{y}_{n}}  \\\\\n",
    "\\end{matrix} \\right]$"
   ]
  },
  {
   "cell_type": "markdown",
   "metadata": {},
   "source": [
    "目标函数：\n",
    "\n",
    "$$J(\\beta )={{\\sum\\limits_{i=1}^{m}{\\left| {{y}_{i}}-\\sum\\limits_{j=1}^{n}{{{x}_{ij}}{{\\beta }_{j}}} \\right|}}^{2}}={{\\left\\| y-X{{\\beta }^{T}} \\right\\|}^{2}}$$\n",
    "\n",
    "要求最佳拟合模型，也就是令上面目标函数最小，即为0：\n",
    "\n",
    "$$y-X{{\\beta }^{T}}=0$$"
   ]
  },
  {
   "cell_type": "markdown",
   "metadata": {},
   "source": [
    "移项得：\n",
    "\n",
    "$$y=X{{\\beta }^{T}}$$\n",
    "\n",
    "$${{({{X}^{T}}X)}^{-1}}{{X}^{T}}y={{({{X}^{T}}X)}^{-1}}{{X}^{T}}X{{\\beta }^{T}}$$\n",
    "\n",
    "最终获得解：\n",
    "\n",
    "$${{\\beta }^{T}}={{({{X}^{T}}X)}^{-1}}{{X}^{T}}y$$\n",
    "\n",
    "可以看出，对于一般的最小二乘法多元求解，使用矩阵运算即可，都不需要迭代 。"
   ]
  },
  {
   "cell_type": "markdown",
   "metadata": {},
   "source": [
    "# 4 最小二乘法与梯度下降法"
   ]
  },
  {
   "cell_type": "markdown",
   "metadata": {},
   "source": [
    "通过上面推导可知，最小二乘法可以矩阵运算求解，这种方法十分方便快捷，但这种方法不是万能的，因为矩阵运算求解的条件时矩阵$X$可以，但在很多非线性模型中，就未必可逆了，这时候矩阵运算求解就行不通，这时候就可以通过梯度下降法求最优解。来具体说说这两种方法的区别："
   ]
  },
  {
   "cell_type": "markdown",
   "metadata": {},
   "source": [
    "![image](data:image/png;base64,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)"
   ]
  },
  {
   "cell_type": "markdown",
   "metadata": {},
   "source": [
    "# 5 总结"
   ]
  },
  {
   "cell_type": "markdown",
   "metadata": {},
   "source": [
    "最小二乘法是机器学习中常用的优化算法，解释性强，求解方便快捷，但对噪声数据过于敏感，且只适用于线性模型，对于非线性模型，可结合梯度下降法等方式使用。\n",
    "\n",
    "参考：\n",
    "\n",
    "https://www.datalearner.com/blog/1051539312290417\n",
    "\n",
    "https://www.cnblogs.com/wangkundentisy/p/7505487.html"
   ]
  }
 ],
 "metadata": {
  "kernelspec": {
   "display_name": "study_python",
   "language": "python",
   "name": "study_python"
  },
  "language_info": {
   "codemirror_mode": {
    "name": "ipython",
    "version": 3
   },
   "file_extension": ".py",
   "mimetype": "text/x-python",
   "name": "python",
   "nbconvert_exporter": "python",
   "pygments_lexer": "ipython3",
   "version": "3.7.4"
  }
 },
 "nbformat": 4,
 "nbformat_minor": 2
}
