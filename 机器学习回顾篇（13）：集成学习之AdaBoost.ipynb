{
 "cells": [
  {
   "cell_type": "markdown",
   "metadata": {},
   "source": [
    "在上一篇博客中，我们总结了集成学习的原理，并展开介绍了集成学习中Bagging和随机森林这一分枝算法，在本篇博客中，我们继续介绍另一个分枝——Boosting，并对Boosting系列中的经典算法Adaboost展开分析。"
   ]
  },
  {
   "cell_type": "markdown",
   "metadata": {},
   "source": [
    "# 1 Boosting"
   ]
  },
  {
   "cell_type": "markdown",
   "metadata": {},
   "source": [
    "Boosting系列算法又称为提升学习算法，算法目标就是将弱分类器提升为强分类器。这里的弱分类器和强分类器是根据准确率对学习器进行的一种划分，弱分类器准确率较低（高于50%即可），强分类器则需要有一个有令人满意准确率。很明显，强分类器是机器学习的最终目标，但在很多场景下，直接训练获取一个强分类器有时候是非常困难的，相比之下，但弱分类器通常通过简单训练即可获得，通过反复学习获得大量弱分类器进行组合也可以获得一个性能优异的强分类器。如果只是这样的话，那么Boosting与Bagging列些的集成算法也就没什么太大区别，在上一篇博客中，我们说过集成学习的所有基本分类器满足符合以下两个条件：  \n",
    "（1）基本分类器之间应该有差异性。如果基本分类器将没有差异，那么集成起来的结果是没有变化的。  \n",
    "（2）每个基本分类器的精度必须大于0.5。  \n",
    "用一句话说就是所有的基本分类器必须“好而不同”，为了达到这一目的，Boosting使用了加法模型和前向分步算法。  \n",
    "加法模型是指强学习器是由一个个弱分类器累加组合而来：\n",
    "$${H_M}(x) = \\sum\\limits_{m = 1}^M {{\\alpha _m}{h_m}(x)} $$\n",
    "其中，${{h_m}(x)}$是指第$m$个弱分类器，${\\alpha _m}$是${{h_m}(x)}$在$M$个分类器中的权重。\n",
    "前向分步算法是指在算法迭代过程中，每一个分类器是又上一次迭代产生的分类器基础上进行训练获得。数学表示如下：  \n",
    "$${H_m}(x) = {H_{m - 1}}(x) + {\\alpha _m}{h_m}(x)$$\n",
    "Boosting正在集成思想上结合加法模型和前向分步算法的一种集成学习方法：首先从初始训练集中训练一个初始基本分类器，在根据初始分类器的表现对训练样本分布进行调整，使得训练下一个分类器时对上一个学习器误分类样本更加关注，通过此种方式不同循环训练一系列分类器，直到分类器达到指定数量亦或者累加后的强分类器达到指定精度。  \n",
    "前向分步算法决定了在Boosting系列算法中，所有分类器间只能是一种串行的结构，每一个分类器只能在上一个的学习器基础上进行学习，这是与Bagging系列算法分类器间的并行结构最大的不同。  \n",
    "建立在这一思想的基础上，很多Boosting系列算法相继提出，AdaBoost算法就是其中之一。本文接下来内容对AdaBoost算法展开介绍。"
   ]
  },
  {
   "cell_type": "markdown",
   "metadata": {},
   "source": [
    "# 2 AdaBoost\n",
    "## 2.1 算法原理\n",
    "AdaBoost，是英文Adaptive Boosting的缩写，可直接翻译为自适应提升算法，由Yoav Freund和Robert Schapire在1995年提出。AdaBoost算法在每一次迭代中根据训练集之中每个样本的分类正确与否，以及上次的总体分类的准确率，来为每个样本设置一个权值，通过增加在上一个弱分类器中被误分类的样本的权值使得该样本在下一次迭代训练弱分类器时得到更多的重视，通过这种方式，每一次迭代都前面弱分类器分类结果基础上训练新的分类器，最终将弱分类器融合起来，作为强分类器进行决策使用，如下图所示。细致一点来说，AdaBoost就可以分为以下三个步骤：  \n",
    "（1）为训练集中每一个昂本初始化一个权值，例如有$N$个样本，那么每个样本权值都为$\\frac{1}{N}$。  \n",
    "（2）通过循环迭代的方式训练大量的弱分类器，每一次迭代的操作如下：结合样本现有的权值和本次训练中分类的正确与否更新样本的权值，正确分类样本权值将降低，错误分类样本权值增加，将更新后的权值传递到下一次迭代中，是的在训练下一个弱分类器时之前被误分类的样本得到更多的关注。  \n",
    "（3）根据准确率为每个弱分类器设置一个权值（注意，这里的权值是弱分类器的权值，跟第二步中的样本权值是不一样的），使准确率高的分类器在有更高的“决策权”，然后通过加权求和的方式对所有弱分类器进行组合获得一个最终的强分类器。  \n",
    "那么，样本权值在每一次迭代过程中具体怎样更新和传递，又是如何影响下一轮的迭代中学习器对样本的重视程度？学习器的权重怎么计算？带着这些问题，我们结合数学计算来详细叙述AdaBoost算法的各个步骤。先来说说分类问题。  \n",
    "![image](data:image/png;base64,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)\n",
    "\n",
    "## 2.2 分类问题\n",
    "\n",
    "给定一个二分类数据集$D = \\{ ({x_1},{y_1}),({x_2},{y_2}), \\cdots ,({x_N},{y_N})\\} $，其中样本的特征向量${x_i} \\in X \\subseteq {R^n}$，样本标签\n",
    "${y_i} \\in Y = \\{  - 1, + 1\\} $。通过AdaBoost算法对$D$进行分类，步骤如下：  \n",
    "（1）初始化$D$中所有样本的权值分布。在算法初始化时，尚未对数据集进行拟合，也没有任何其他先验假设，所以对所有样本“平等视之”，即所有样本相等：  \n",
    "$$W = ({w_{11}}, \\cdots ,{w_{1i}}, \\cdots ,{w_{iN}}),{w_{1i}} = \\frac{1}{N},i = 1,2, \\cdots ,N  \\tag{1}$$\n",
    "（2）进行$M$次迭代，其中第$m$次迭代的具体过程如下：  \n",
    "&#160; &#160; &#160; &#160;（a）使用设定好的学习算法对训练集$D$进行学习，构建弱分类器${h_m}(x):X \\to \\{  - 1, + 1\\} $。若样本$x_i$被误分类，则有${y_i} \\ne {h_m}({x_i})$，所以结合各样本权值，误差率可以按如下公式计算：\n",
    "$$e_m = \\sum\\limits_{{y_i} \\ne {h_m}({x_i})} {{w_{mi}}} $$\n",
    "从误差率的计算公式中可以看出，所谓误差率就是所有误分类样本权值之和。  \n",
    "&#160; &#160; &#160; &#160;（b）计算${h_m}(x)$的系数：\n",
    "$${\\alpha _m} = \\frac{1}{2}\\ln \\frac{{1 - {e_m}}}{{1 + {e_m}}}  \\tag{2}$$\n",
    "这个${\\alpha _m}$的作用是在衡量分类器$h_m(x)$的“话语权”，$h_m(x)$误差率越高，${\\alpha _m}$值越小，对集成后强分类器结果的影响就越小。  \n",
    "&#160; &#160; &#160; &#160;（c）根据在（a）中计算好的误差率，更新数据集$D$中各样本的权值分布：\n",
    "$$W = ({w_{m + 1,1}}, \\cdots ,{w_{m + 1,i}}, \\cdots ,{w_{m + 1,N}})$$  \n",
    "\n",
    "$${w_{m + 1,i}} = \\frac{{{w_{m,i}}}}{{{Z_m}}}\\exp \\left( { - {\\alpha _m}{y_i}{h_m}({x_i})} \\right)  \\tag{3}$$\n",
    "$${Z_m} = \\sum\\limits_{i = 1}^N {{w_{m,i}}\\exp \\left( { - {\\alpha _m}{y_i}{h_m}({x_i})} \\right)} $$\n",
    "\n",
    "我们来分析一下这个式（3）。$Z_m$是归一化因子，权值计算时除以$Z_m$是为了让所有样本权值之和为1。接着分析指数部分的${ - {\\alpha _m}{y_i}{h_m}({x_i})}$，这才是重点，当样本被正确分类是，${{h_m}({x_i})}=y_i$，所以${{h_m}({x_i})}$与$y_i$一定同为正或同为负，${\\alpha _m}$是正数，于是${ - {\\alpha _m}{y_i}{h_m}({x_i})}$就小于0，指数运算后的值就小于1，所以权值相乘后结果减小，这就达到了降低正确分类样本在下一次迭代中的权值的目的。反之，对于误分类样本，指数运算后的值就大于1，与权值相乘后就结果增大，达到增加误分类样本在下一次迭代中的权值目的。  \n",
    "（3）组合在第二步走训练好的所有弱分类器：\n",
    "$$H'(x) = \\sum\\limits_{m = 1}^M {{\\alpha _m}{h_m}(x)} $$\n",
    "那么，最终的强分类器可以表示为：\n",
    "$$H(x) = sign\\left( {H'(x)} \\right) = sign\\left( {\\sum\\limits_{m = 1}^M {{\\alpha _m}{h_m}(x)} } \\right)$$"
   ]
  },
  {
   "cell_type": "markdown",
   "metadata": {},
   "source": [
    "## 2.3 回归问题\n",
    "AdaBoost算法在解决回归问题时的求解步骤和原理与2.2节中分类问题是很类似的。  \n",
    "（1）初始化$D$中所有样本的权值分布。\n",
    "$$W = ({w_{11}}, \\cdots ,{w_{1i}}, \\cdots ,{w_{iN}}),{w_{1i}} = \\frac{1}{N},i = 1,2, \\cdots ,N$$\n",
    "（2）进行$M$次迭代，其中第$m$次迭代的具体过程如下：   \n",
    "&#160; &#160; &#160; &#160;（a）使用设定好的学习算法对训练集$D$进行学习，计算${h_m}$的误差率。不过，在计算误差率前，需要计算最大误差${E_m}$和相对误差${e_{m,i}}$：  \n",
    "$${E_m} = \\max \\left| {{y_i} - {h_m}({x_i})} \\right|,i = 1,2, \\cdots ,N$$\n",
    "相对误差可以使用线性误差、平方误差或者指数误差。  \n",
    "线性误差：${e_{m,i}} = \\frac{{\\left| {{y_i} - {h_m}({x_i})} \\right|}}{{{E_m}}}$  \n",
    "\n",
    "平方误差：${e_{m,i}} = \\frac{{{{\\left( {{y_i} - {h_m}({x_i})} \\right)}^2}}}{{{E_m}}}$  \n",
    "\n",
    "指数误差：${e_{m,i}} = 1 - \\exp \\left( { - \\frac{{\\left| {{y_i} - {h_m}({x_i})} \\right|}}{{{E_m}}}} \\right)$  \n",
    "\n",
    "然后计算误差率$e_m$：\n",
    "$${e_m} = \\sum\\limits_{i = 1}^N {{w_{m,i}}{e_{m,i}}} $$\n",
    "&#160; &#160; &#160; &#160;（b）计算${h_m}(x)$的系数：\n",
    "$${\\alpha _m} = \\frac{{{e_m}}}{{1 - {e_m}}}$$\n",
    "&#160; &#160; &#160; &#160;（c）更新所有样本的权重分布：\n",
    "$$W = ({w_{m + 1,1}}, \\cdots ,{w_{m + 1,i}}, \\cdots ,{w_{m + 1,N}})$$ \n",
    "$${w_{m + 1,i}} = \\frac{{{w_{m,i}}}}{{{Z_m}}}{\\alpha _m}^{1 - {e_{m,i}}}$$\n",
    "$${Z_m} = \\sum\\limits_{i = 1}^N {{w_{m,i}}{\\alpha _m}^{1 - {e_{m,i}}}} $$\n",
    "（3）在回归问题中，组合策略也与分类问题有所区别，采用的是对加权后的弱学习器取中位数的方法，最终的强回归器为：\n",
    "$$H(x) = \\left( {\\sum\\limits_{m = 1}^M {\\ln (\\frac{1}{{{\\alpha _m}}})} } \\right) \\cdot g(x)$$\n",
    "式中，$g(x)$表示${\\alpha _m}{h_m}(x),m = 1,2, \\cdots ,M$序列中的中位数。"
   ]
  },
  {
   "cell_type": "markdown",
   "metadata": {},
   "source": [
    "# 3 总结\n",
    "最后对AdaBoost算法进行一下总结。AdaBoost主要有如下特性：   \n",
    "（1）简单易用，需要进行调节的参数很少；  \n",
    "（2）原始的AdaBoost算法只适用于二分类任务；  \n",
    "（3）对于噪声数据较为敏感，这是因为AdaBoost算法倾向于对噪声数据进行拟合，容易造成过拟合；  \n",
    "（4）弱学习器可以使用任何算法进行构建，例如可使用逻辑回归、决策树、线性回归等；  \n",
    "（5）可以用来做特征选择，例如进行人群信用风险评估时，特征属性宝库年龄、居住地址、收入、有无不动产等等，用AdaBoost算法金信诺迭代时，每一次迭代需要用一个弱分类器划分数据样本，假设用的是决策树算法，我们只能选择一个特征属性进行划分数据样本，在建模完成后，看看弱分类器都是使用那些特征属性进行决策就可以知道哪些特征属性重要，方便做出特征选择。  \n"
   ]
  }
 ],
 "metadata": {
  "kernelspec": {
   "display_name": "study_python",
   "language": "python",
   "name": "study_python"
  },
  "language_info": {
   "codemirror_mode": {
    "name": "ipython",
    "version": 3
   },
   "file_extension": ".py",
   "mimetype": "text/x-python",
   "name": "python",
   "nbconvert_exporter": "python",
   "pygments_lexer": "ipython3",
   "version": "3.7.4"
  }
 },
 "nbformat": 4,
 "nbformat_minor": 2
}
