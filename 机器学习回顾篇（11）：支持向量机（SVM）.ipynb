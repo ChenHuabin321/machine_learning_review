{
 "cells": [
  {
   "cell_type": "markdown",
   "metadata": {},
   "source": [
    "# 1. 引言"
   ]
  },
  {
   "cell_type": "markdown",
   "metadata": {},
   "source": [
    "SVM，Support Vector Machine，也就是我们中文名的支持向量机，我相信，只要是与机器学习有过照面的童鞋或多或少都听说过这个名字。作为机器学习家族中的老牌成员，其经典自不必说。从原理和特性上讲，**SVM属于有监督学习中线性二分类中的一员，基本思想就是采用最大化间隔策略寻找一个最优决策超平面将所有样本点划分到平面两侧，实现对数据的分类**。\n",
    "\n",
    "注意几个关键词：线性、二分类、最大化间隔。这么一说，你可能会以为SVM算法只能用于线性可分问题和和二分类问题中，然而，事实却是SVM算法在非线性和多分类场景中有卓越表现，这并不矛盾，至于原因，下文中会陆续解答。\n",
    "\n",
    "先来说说超平面和最大化间隔，这是SVM算法的根本所在。"
   ]
  },
  {
   "cell_type": "markdown",
   "metadata": {},
   "source": [
    "# 2. 支持向量与最大化间隔"
   ]
  },
  {
   "cell_type": "markdown",
   "metadata": {},
   "source": [
    "因为SVM算法探究的是一个线性可分的二分类问题，首要任务就寻找一个超平面。这里的超平面，定义的是$n$维线性空间中维度为$n-1$的子空间，可以把线性空间分割成不相交的两部分。一般的，在数学上，超平面表示如下："
   ]
  },
  {
   "cell_type": "markdown",
   "metadata": {},
   "source": [
    "\n",
    "$${w^T}x + b = 0 \\tag{1}$$ "
   ]
  },
  {
   "cell_type": "markdown",
   "metadata": {},
   "source": [
    "不需要想得太复杂，想想3维以下的空间就可以理解了，例如在二维空间中，超平面就表现为一维的直线，它把平面分成了两块，对于直线的表示，大家都不陌生：$wx + b = 0$，这时候的$x$就是一个一维向量；三维空间中，超平面就是二维的平面，它把空间分成了两块，这个二维平面表示为：${w_1}{x_1} + {w_2}{x_2} = 0$。对于更高的n维空间原理是一样的。\n",
    "\n",
    "对于数据空间中给定的样本集合$D = \\{ ({x_1},{y_1}),({x_2},{y_2}), \\cdots ,({x_N},{y_N})\\} $，其中${x_i} \\in X = {R^n}$，${y_i} \\in Y = \\{  - 1, + 1\\} $，SVM算法的目标就是寻找一个超平面将数据集$D$划分为两个不相交的子集，对于两个子集分别满足当${y_i} =  + 1$时，${w^T}{x_i} + b > 0$，当${y_i} =  - 1$时，${w^T}{x_i} + b < 0$，即：\n",
    "\n",
    "$${y_i}({w^T}{x_i} + b) > 0 \\tag{2}$$"
   ]
  },
  {
   "cell_type": "markdown",
   "metadata": {},
   "source": [
    "但是，对与任意线性可分数据集，满足这一条件超平面都不可能不只一个，以我们熟悉的二维空间为例，如下图所示："
   ]
  },
  {
   "cell_type": "markdown",
   "metadata": {},
   "source": [
    "![image](data:image/png;base64,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)"
   ]
  },
  {
   "cell_type": "markdown",
   "metadata": {},
   "source": [
    "在上面图中，有数量不等的蓝点和红点，分别代表着数据集中的+1类和-1类，在图中我们可以看到，直线A、B、C、D都满足上述两个条件，可以做到能将数据集进行正确分类，但是哪一条才是最优的呢？\n",
    "\n",
    "从直观上来判断，我相信大家都会选择B（红色那条）最优，具有最强的鲁棒性。因为它与蓝点和红点都有足够的距离，如果选择其他直线，例如C，它与红点非常接近，如果数据稍有波动，就容易越过C线被误判为蓝点所在类别（+1类）。\n",
    "\n",
    "所以，我们会选择离两边数据集都尽量远的超平面来划分数据空间，这样的误判率会低一些——这就是间隔最大化选取超平面的方法。其中离超平面最近的点，我们称之为**支持向量**。"
   ]
  },
  {
   "cell_type": "markdown",
   "metadata": {},
   "source": [
    "假设样本$({x_i},y_i)$就是数据集$D$中的支持向量，$({x_i},y_i)$到超平面${w^T}x + b = 0$的几何距离可以表示为：\n",
    "$$\\frac{{|{w^T}{x_i} + b|}}{{\\left\\| w \\right\\|}}$$"
   ]
  },
  {
   "cell_type": "markdown",
   "metadata": {},
   "source": [
    "支持向量机算法的思想就是最大化这个距离，即：\n",
    "$$\\max \\frac{{|{w^T}{x_i} + b|}}{{\\left\\| w \\right\\|}}\\tag{3}$$"
   ]
  },
  {
   "cell_type": "markdown",
   "metadata": {},
   "source": [
    "式（3）太过于复杂，我们可以进一步化简。因为$x_i$与$y_i$是同号的，所以${y_i}({w^T}{x_i} + b) > 0$，那么式（3）可转化为：\n",
    "$$\\max \\frac{{{y_i}({w^T}{x_i} + b)}}{{\\left\\| w \\right\\|}} \\tag{4}$$"
   ]
  },
  {
   "cell_type": "markdown",
   "metadata": {},
   "source": [
    "对于式（4）中的分子${{y_i}({w^T}{x_i} + b)}$，许多教材中定义了一个专门的概念，那就是函数距离，当参数$w$和$b$固定时，点与超平面间的间隔越大，函数间隔越大。但函数间隔有一个不好的地方，当参数$w$和$b$按比例缩放时，所描述的超平面不会发生变化，但是函数距离却会跟着按比例缩放。为了克服这一不足，我们可以将函数距离固定为一个确定值，例如缩放到函数距离为1，这样求解出来的$w$和$b$虽然不是原来的$w$和$b$，但是所确定的超平面却是一样的，所以并不会对我们求解支持向量机最优超平面造成影响。那么，式（4）就再次化简为：\n",
    "$$\\max \\frac{1}{{\\left\\| w \\right\\|}}$$"
   ]
  },
  {
   "cell_type": "markdown",
   "metadata": {},
   "source": [
    "因为我们刚假设支持向量到超平面的函数距离为1，所以，对于数据集中任意样本到超平面的函数距离都至少为1，求解时必须考虑上这一约束条件。另外，最大化$\\frac{1}{{\\left\\| w \\right\\|}}$和最小化${\\frac{1}{2}{{\\left\\| w \\right\\|}^2}}$是等价的，所以，支持向量机最大化间隔可以表示为如下优化问题：\n",
    "$$\\eqalign{\n",
    "  & \\mathop {\\min }\\limits_{w,b} {\\text{    }}\\frac{1}{2}{\\left\\| w \\right\\|^2}  \\tag{5}\\cr \n",
    "  & s.t.{\\text{     }}{y_i}({w^T}{x_i} + b) \\geqslant 1,{\\text{    }}i = 1,2, \\cdots ,N \\cr} $$"
   ]
  },
  {
   "cell_type": "markdown",
   "metadata": {},
   "source": [
    "# 3 优化与求解"
   ]
  },
  {
   "cell_type": "markdown",
   "metadata": {},
   "source": [
    "很明显，式（5）是一个二次凸优化问题（简单来说，如果目标函数是二次函数且约束函数是线性的，这类问题就是二次凸优化问题），对于这类问题，可以引入拉格朗日乘子法进行转化，将有约束条件的问题转化为无约束条件的问题进行求解。于是式（5）就可以转化为："
   ]
  },
  {
   "cell_type": "markdown",
   "metadata": {},
   "source": [
    "$$\\eqalign{\n",
    "  & \\mathop {\\min }\\limits_{w,b} \\mathop {{\\text{max}}}\\limits_\\lambda  {\\text{    }}L(w,b,\\lambda )  \\tag{6}\\cr \n",
    "  & s.t.{\\text{     }}{\\lambda _i} \\geqslant 0,{\\text{    }}i = 1,2, \\cdots ,N \\cr} $$\n",
    "$$L(w,b,\\lambda ) = \\frac{1}{2}{\\left\\| w \\right\\|^2} - \\sum\\limits_{i = 1}^N {{\\lambda _i}({y_i}({w^T}{x_i} + b)-1)}\\tag{7}$$\n",
    "式中，$\\lambda $为拉格朗日乘子。  \n",
    "如果你不理解从式（5）到式（6）的转化原理和细节，没关系，你姑且可以认为这就是公理，套公式就好了。此时，式（6）对参数$w$和$b$已经是没有约束条件了。接下来，根据拉格朗日的对偶性，我们不妨将式（6）中求最大值的最小值问题转化为求最小值的最大值问题，不理解没关系，姑且认为就是将max和min交换一下位置，对我们的最终结果不会有太大影响，但是却方便求解。转化后，式（6）如下：\n",
    "$$\\eqalign{\n",
    "  & \\mathop {{\\text{max}}}\\limits_\\lambda  \\mathop {\\min }\\limits_{w,b} {\\text{    }}L(w,b,\\lambda )  \\tag{8}\\cr \n",
    "  & s.t.{\\text{     }}{\\lambda _i} \\geqslant 0,{\\text{    }}i = 1,2, \\cdots ,N \\cr} $$\n",
    " 在式（7）中，第一步要做的就是求$\\mathop {\\min }\\limits_{w,b} {\\text{    }}L(w,b,\\lambda )$,也就是$L(w,b,\\lambda )$的最小值，我们可以通过求$L(w,b,\\lambda )$对$w$和$b$的偏导，并令偏导为$0$的方式来求解。\n",
    "$$\\frac{{\\partial L(w,b,\\lambda )}}{{\\partial w}} = w - \\sum\\limits_{i = 1}^N {{\\lambda _i}{y_i}{x_i}}  = 0$$\n",
    "$$\\frac{{\\partial L(w,b,\\lambda )}}{{\\partial b}} =  - \\sum\\limits_{i = 1}^N {{\\lambda _i}{y_i}}  = 0$$\n",
    "于是有：\n",
    "$$w = \\sum\\limits_{i = 1}^N {{\\lambda _i}{y_i}{x_i}} \\tag{9}$$\n",
    "$$\\sum\\limits_{i = 1}^N {{\\lambda _i}{y_i}}  = 0 \\tag{10}$$\n",
    "将拉格朗日函数，也就是式（7）中展开，得：\n",
    "$$L(w,b,\\lambda ) = \\frac{1}{2}{\\left\\| w \\right\\|^2} - {w^T}\\sum\\limits_{i = 1}^N {{\\lambda _i}{y_i}{x_i}}  - b\\sum\\limits_{i = 1}^N {{\\lambda _i}{y_i}}  + \\sum\\limits_{i = 1}^N {{\\lambda _i}} \\tag{11}$$\n",
    "式（9）代入式（11）再结合（10）进行化简：\n",
    "$$\\displaylines{\n",
    "  L(w,b,\\lambda ) = \\frac{1}{2}{\\left\\| w \\right\\|^2} - \\sum\\limits_{i = 1}^N {{\\lambda _i}({y_i}({w^T}{x_i} + b) - 1)}  \\cr \n",
    "   = \\frac{1}{2}{\\left\\| w \\right\\|^2} - {w^T}\\sum\\limits_{i = 1}^N {{\\lambda _i}{y_i}{x_i}}  - b\\sum\\limits_{i = 1}^N {{\\lambda _i}{y_i}}  + \\sum\\limits_{i = 1}^N {{\\lambda _i}}  \\cr \n",
    "   = \\frac{1}{2}{\\left\\| w \\right\\|^2} - {w^T}w - b \\cdot 0 + \\sum\\limits_{i = 1}^N {{\\lambda _i}}  \\cr \n",
    "   =  - \\frac{1}{2}{\\left\\| w \\right\\|^2} + \\sum\\limits_{i = 1}^N {{\\lambda _i}}  \\cr \n",
    "   =  - \\frac{1}{2}\\sum\\limits_{i = 1}^N {\\sum\\limits_{i = 1}^N {{\\lambda _i}{\\lambda _j}{y_i}{y_j}{x_i}{x_j}} }  + \\sum\\limits_{i = 1}^N {{\\lambda _i}}  \\cr} $$\n",
    "即：\n",
    "$$\\mathop {\\min }\\limits_{w,b} L(w,b,\\lambda ) =  - \\frac{1}{2}\\sum\\limits_{i = 1}^N {\\sum\\limits_{i = 1}^N {{\\lambda _i}{\\lambda _j}{y_i}{y_j}{x_i}{x_j}} }  + \\sum\\limits_{i = 1}^N {{\\lambda _i}} $$"
   ]
  },
  {
   "cell_type": "markdown",
   "metadata": {},
   "source": [
    "至此，式（8）可以转化为如下形式：\n",
    "$$\\eqalign{\n",
    "  & \\mathop {\\max }\\limits_\\lambda  {\\text{  }} - \\frac{1}{2}\\sum\\limits_{i = 1}^N {\\sum\\limits_{i = 1}^N {{\\lambda _i}{\\lambda _j}{y_i}{y_j}{x_i}{x_j}} }  + \\sum\\limits_{i = 1}^N {{\\lambda _i}}   \\tag{12}\\cr \n",
    "  & s.t.{\\text{  }}{\\lambda _i} \\geqslant 0,{\\text{    }}\\sum\\limits_{i = 1}^N {{\\lambda _i}{y_i}}  = 0,{\\text{    }}i = 1,2, \\cdots ,N \\cr} $$\n",
    "可以看出，这是一个二次规划的问题，问题规模正比于训练样本数，我们常用 SMO(Sequential Minimal Optimization) 算法求解。对于SMO算法求解过程，感觉有些复杂（我也没看明白），不敢多想说，后续完全弄明白再补充。此刻，我们假设通过SMO算法求解出式（12）最优解为${\\lambda ^*}$，将${\\lambda ^*}$代入式（9）可的参数$w$的最优解：\n",
    "$${w^*} = \\sum\\limits_{i = 1}^N {\\lambda _i^*{y_i}{x_i}} $$\n",
    "对于参数$b$，由Kuhn Tuker定理可知，式（12）的最优解必须满足一下最优化条件（KKT条件）：\n",
    "$${\\lambda ^*}[{y_i}({w^*}{x_i} + {b^*}) - 1] = 0 \\tag{13}$$\n",
    "式（13）要成立，就必须是${\\lambda ^*}=0$或者${y_i}({w^*}{x_i} + {b^*}) = 1$。对于${\\lambda ^*}=0$，肯定是不能成立的，可以通过反证法证明。如果${\\lambda ^*}=0$成立，通过式（9）可知必然使得$w^*=0$，而$w^*=0$显然不是式（5）的解，产生矛盾，因此${\\lambda ^*}$不能为0。  \n",
    "所以${y_i}({w^*}{x_i} + {b^*}) = 1$必然适用。对于这个条件，若要满足，$x_i$必然是是支持向量，这也是为什么只有支持向量才能绝对最终的最优超平面的原因。将式（9）代入${y_i}({w^*}{x_i} + {b^*}) = 1$中，然后移项可得：\n",
    "$${b^*} = {y_j} - \\sum\\limits_{i = 1}^N {\\lambda _i^*{y_i}{x_i}} {x_j}$$\n",
    "$w^*$和$b^*$求解出来了，最终的最优超平面自然也就确定了。"
   ]
  },
  {
   "cell_type": "markdown",
   "metadata": {},
   "source": [
    "# 4 总结\n",
    "本文总结了在数据集线性可分情况下，使用支持向量机算法进行分类的思想——硬间隔最大化。然而，在多数应用中，数据集并非线性可分，如果只是在分类边界附近少数点造成线性不可分，这种情况下需要在硬间隔最大化目标函数基础上，引入松弛变量和惩罚因子，然后通过拉格朗日对偶性求解，这种方法称为软间隔最大化。如果大量样本线性不可分，则需要引入核技巧，往高维空间映射，转化为线性可分。对于这两部分内容，在后续博客中在总结了（吐槽一下，写这类博客，真是耗时、费神、心累）。  \n"
   ]
  }
 ],
 "metadata": {
  "kernelspec": {
   "display_name": "study_python",
   "language": "python",
   "name": "study_python"
  },
  "language_info": {
   "codemirror_mode": {
    "name": "ipython",
    "version": 3
   },
   "file_extension": ".py",
   "mimetype": "text/x-python",
   "name": "python",
   "nbconvert_exporter": "python",
   "pygments_lexer": "ipython3",
   "version": "3.7.4"
  }
 },
 "nbformat": 4,
 "nbformat_minor": 2
}
