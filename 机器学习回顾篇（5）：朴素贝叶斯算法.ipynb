{
 "cells": [
  {
   "cell_type": "markdown",
   "metadata": {},
   "source": [
    "## 1 引言"
   ]
  },
  {
   "cell_type": "markdown",
   "metadata": {},
   "source": [
    "说到朴素贝叶斯算法，很自然地就会想到贝叶斯概率公式，这是我们在高中的时候就学过的内容，没错，这也正是朴素贝叶斯算法的核心，今天我们也从贝叶斯概率公式开始，全面撸一撸朴素贝叶斯算法。"
   ]
  },
  {
   "cell_type": "markdown",
   "metadata": {},
   "source": [
    "## 2 贝叶斯概率公式\n",
    "### 2.1 联合概率与全概率公式"
   ]
  },
  {
   "cell_type": "markdown",
   "metadata": {},
   "source": [
    "**定义1：完备事件组**"
   ]
  },
  {
   "cell_type": "markdown",
   "metadata": {},
   "source": [
    "${A_1} \\cup {A_2} \\cup \\cdots \\cup {A_n} = \\Omega $，且${A_i} \\cap {A_j} = \\emptyset ,1 \\le i \\ne j \\le n$，则称${A_1},{A_2}, \\cdots ,{A_n}$为一个完备事件组。\n",
    "\n",
    "也就是说，如果${A_1},{A_2}, \\cdots ,{A_n}$并集是完整的事件空间，且两两之间相互独立（不相交），那么${A_1},{A_2}, \\cdots ,{A_n}$就是完备事件组。就像下图中的事件${A_1},{A_2},{A_3},{A_4}$，他们之间两两不相交，但合起来（并集）就构成了一个完整的大灰色矩形框（完整的事件空间）："
   ]
  },
  {
   "cell_type": "markdown",
   "metadata": {},
   "source": [
    "![image](data:image/png;base64,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)"
   ]
  },
  {
   "cell_type": "markdown",
   "metadata": {},
   "source": [
    "现在，如下图所示，有一个事件$B$，$B$事件只有在事件${A_i}$发生的基础上才会发生。注意，${A_i}$有可能是${A_1}$，也有可能是${A_2}$、${A_3}$、${A_4}$，而且${A_1}$、${A_2}$、${A_3}$、${A_4}$事件发生后发生$B$事件的概率可能不相等。"
   ]
  },
  {
   "cell_type": "markdown",
   "metadata": {},
   "source": [
    "![image](data:image/png;base64,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)"
   ]
  },
  {
   "cell_type": "markdown",
   "metadata": {},
   "source": [
    "说到这里又有几个概念了：\n",
    "\n",
    "先验概率：有简单统计分析可以获得的概率，例如$P({A_i})$\n",
    "\n",
    "条件概率：在事件${A_i}$发生的前提下，发生事件$B$的概率，表示为$P(B|{A_i})$。\n",
    "\n",
    "联合概率：事件${A_i}$和事件$B$同时发生的概率，表示为$P(B,{A_i})$。整个过程首先得保证${A_1}$发生，概率为$P({A_1})$，发生${A_1}$再发生$B$，概率是$P(B|{A_1})$，所以有：\n",
    "\n",
    "$$P(B,{A_i}) = P({A_i})P(B|{A_i})$$"
   ]
  },
  {
   "cell_type": "markdown",
   "metadata": {},
   "source": [
    "由上面几个概念，就可以引申出全概率公式：\n",
    "\n",
    "$$P(B) = \\sum\\limits_{i = 1}^n {P(B,{A_i})} = \\sum\\limits_{i = 1}^n {P({A_i})P(B|{A_i})}$$"
   ]
  },
  {
   "cell_type": "markdown",
   "metadata": {},
   "source": [
    "这就是$B$事件的全概率公式，意思是如果有某个事件$B$的发生总是以另一事件${A_i}$作为前提（原因），那么把各种前提事件${A_i}$下$B$发生的概率加起来就是事件$B$发生的概率。对上图中的例子就有：\n",
    "\n",
    "$$P(B) = P({A_1})P(B|{A_1}) + P({A_2})P(B|{A_2}) + P({A_3})P(B|{A_3}) + P({A_4})P(B|{A_4})$$"
   ]
  },
  {
   "cell_type": "markdown",
   "metadata": {},
   "source": [
    "### 2.2 贝叶斯概率公式"
   ]
  },
  {
   "cell_type": "markdown",
   "metadata": {},
   "source": [
    "从上面对全概率公式的介绍中我们知道了，事件$B$发生的概率就是在各个${A_i}$与事件$B$的联合概率之和，也就是在各种不同${A_i}$情况下发生$B$事件概率之和。现在，我们考虑另一种场景：已知事件$B$发生了，问是由事件${A_i}$导致的概率，也就是$B$发生前提下发生事件${A_i}$的条件概率，即$P({A_i}|B)$，怎么求呢？这就是贝叶斯概率公式解决的问题。\n",
    "\n",
    "贝叶斯概率公式如下所示："
   ]
  },
  {
   "cell_type": "markdown",
   "metadata": {},
   "source": [
    "$$P({A_i}|B) = \\frac{{P(B,{A_i})}}{{P(B)}}$$"
   ]
  },
  {
   "cell_type": "markdown",
   "metadata": {},
   "source": [
    "也就是说，$B$发生前提下发生事件${A_i}$的条件概率等于事件${A_i}$、$B$的联合概率与事件$B$发生的概率之间的商。继续，我们将2.1节讲过的联合概率公式和全概率公式代入上面的贝叶斯概率公式，就得到了完整的贝叶斯公式：\n",
    "\n",
    "$$P({A_i}|B) = \\frac{{P(B,{A_i})}}{{P(B)}} = \\frac{{P({A_i})P(B|{A_i})}}{{\\sum\\limits_1^n {P({A_i})P(B|{A_i})} }}$$"
   ]
  },
  {
   "cell_type": "markdown",
   "metadata": {},
   "source": [
    "贝叶斯概率公式的作用：如果已知事件$B$发生了，去探求是某个原因${A_i}$导致这一结果发生的概率$P({A_i}|B)$，也就某个原因占所有原因的比例。\n",
    "\n",
    "为了更加透彻理解贝叶斯概率公式，我们现在来分析一个例子：\n",
    "\n",
    "病树的主人外出，委托邻居浇水，假设已知如果不浇水树死去的概率为$0.8$，若浇水，则树死去的概率为$0.15$，有$0.9$的把握确定邻居记得浇水。若主人回来时树已经死去，求邻居忘记浇水的概率？\n",
    "\n",
    "我们用${A_1}$表示事件邻居记得浇水，${A_2}$表示事件邻居忘记浇水，用${B_1}$表示树活着，用${B_2}$表示树死了，那么，已知的概率有：\n",
    "\n",
    "邻居记得浇水概率：$P({A_1}) = 0.9$\n",
    "\n",
    "不浇水后树死去的条件概率：$P({B_2}|{A_2}) = 0.8$\n",
    "\n",
    "浇水后树死去的条件概率：$P({B_2}|{A_1}) = 0.15$\n",
    "\n",
    "邻居忘记浇水的概率：$P({A_2}=1 - P({A_1}) = 0.1$\n",
    "\n",
    "那么，由全概率公式我们可以计算出树活着的概率：\n",
    "\n",
    "$$P({B_2}) = P({A_1})P({B_2}|{A_1}) + P({A_2})P({B_2}|{A_2}) = 0.9 \\times 0.15 + 0.1 \\times 0.8 = 0.215$$\n",
    "\n",
    "进而用贝叶斯概率公式计算树死去情况下邻居忘记浇水的概率：\n",
    "\n",
    "$$P({A_2}|{B_2}) = \\frac{{P({A_2})P({B_2}|{A_2})}}{{P({B_2})}} = \\frac{{0.1 \\times 0.8}}{{0.215}} = 0.372$$"
   ]
  },
  {
   "cell_type": "markdown",
   "metadata": {},
   "source": [
    "## 3 朴素贝叶斯分类算法\n",
    "### 3.1 单一属性的朴素贝叶斯分类"
   ]
  },
  {
   "cell_type": "markdown",
   "metadata": {},
   "source": [
    "我们通过一个例子来循序渐进地学习朴素贝叶斯算法。\n",
    "\n",
    "假设办公室$6$成员工为程序员，$4$成为非程序员，程序员穿格子衬衫的概率是$0.7$，非程序员穿格子衬衫的概率是$0.1$，现在迎面走来一位穿格子衬衫的哥们，我们来判断一下这位是否是程序员？\n",
    "\n",
    "用${A_1}$表示穿格子衬衫，${A_2}$表示不穿给支衬衫，${B_1}$表示是程序员，${B_2}$表示非程序员，有：\n",
    "\n",
    "$$P({B_1}) = 0.6$$\n",
    "\n",
    "$$P({B_2}) = 0.4$$\n",
    "\n",
    "$$P({A_1}|{B_1}) = 0.7$$\n",
    "\n",
    "$$P({A_1}|{B_2}) = 0.1$$\n",
    "\n",
    "由贝叶斯概率公式可以计算那么穿格子衬衫的哥们是程序员和非程序员的概率分别是：\n",
    "\n",
    "$$P({B_1}|{A_1}) = \\frac{{P({B_1})P({A_1}|{B_1})}}{{P({B_1})P({A_1}|{B_1}) + P({B_2})P({A_1}|{B_2})}} = \\frac{{0.6 \\times 0.7}}{{0.6 \\times 0.7 + 0.4 \\times 0.1}} = \\frac{{0.42}}{{0.46}} \\approx 0.91$$\n",
    "\n",
    "$$P({B_2}|{A_1}) = \\frac{{P({B_2})P({A_1}|{B_2})}}{{P({B_1})P({A_1}|{B_1}) + P({B_2})P({A_1}|{B_2})}} = \\frac{{0.4 \\times 0.1}}{{0.6 \\times 0.7 + 0.4 \\times 0.1}} = \\frac{{0.04}}{{0.46}} \\approx 0.09$$\n",
    "\n",
    "因为$P({B_1}|{A_1}) > P({B_2}|{A_1})$，所以，我们认为这位哥们是程序员。\n",
    "\n",
    "对这位哥们是否是程序员进行判断的方法，就是朴素贝叶斯算法。我们来总结一下这个过程：\n",
    "\n",
    "（1）由已有数据统计分析出一些先验概率和条件概率。就像上面的$P({B_1})$、$P({B_2})$、$P({A_1}|{B_1})$、$P({A_1}|{B_2})$。当然，这个例子中的这些概率是直接给出的，在真实应用中，这些概率需要通过统计分析得出。\n",
    "\n",
    "（2）结合已知的先验概率和条件概率，通过贝叶斯概率公式计算属于各个分类的概率。在这一步骤中，有一个技巧，我们在回到上面计算两个概率$P({B_1}|{A_1}) $、$ P({B_2}|{A_1})$的过程，发现分母不同，但是分子都是一样的，因为都是计算穿格子衬衫的概率，所以，在实际算法应用中，我们只需要计算分子，然后比较大小即可。\n",
    "\n",
    "（3）比较属于各个分类的概率，将数据划分到概率最大的分类中。"
   ]
  },
  {
   "cell_type": "markdown",
   "metadata": {},
   "source": [
    "### 3.2 多属性的朴素贝叶斯分类"
   ]
  },
  {
   "cell_type": "markdown",
   "metadata": {},
   "source": [
    "我想现在你已经对朴素贝叶斯算法有些感觉了，那么现在，我们系统的描述一下朴素贝叶斯算法，并将其扩展到更加一般化的多维情况。\n",
    "\n",
    "假设存在包含$m$个特征，样本容量为$n$的数据集$D = \\{ (x_1^{(1)},x_2^{(1)}, \\cdots ,x_m^{(1)},{y_1}),(x_1^{(2)},x_2^{(2)}, \\cdots ,x_m^{(2)},{y_2}), \\cdots ,(x_1^{(n)},x_2^{(n)}, \\cdots ,x_n^{(n)},{y_n})\\} $，${y}$是分类标签，其取值${y_i} \\in ({c_1},{c_2}, \\cdots ,{c_K})$。\n",
    "\n",
    "通过对数据集$D$的统计分析，我们可以获得每个类别的先验概率：\n",
    "\n",
    "$$P(Y = {c_k}),k = 1,2, \\cdots ,K$$"
   ]
  },
  {
   "cell_type": "markdown",
   "metadata": {},
   "source": [
    "以及各分类条件下的不同特征的条件概率：\n",
    "\n",
    "$P({X_j} = {x_j}|Y = {c_k})$ （在$ {c_k}$类中第$j$维特征取值为$ {x_j}$的概率）\n",
    "\n",
    "朴素贝叶斯算法有一个前提假设，那就是各特征之间相互独立，对于不同特征组合下的条件概率有：\n",
    "\n",
    "$$P(X = x|Y = {C_k}) = P({X_1} = {x_1},{X_2} = {x_2}, \\cdots ,{X_m} = {x_m}|Y = {C_k}) = \\prod\\limits_{j = 1}^m {P(} {X_j} = {x_j}|Y = {c_k})$$\n",
    "\n",
    "同时由全概率公式可得：\n",
    "$$P(X = x) = \\sum\\limits_{j = 1}^K {P(Y = {C_k}} )P({X_1} = {x_1},{X_2} = {x_2}, \\cdots ,{X_m} = {x_m}|Y = {C_k}) = \\sum\\limits_{j = 1}^K {P(Y = {C_k}} )\\prod\\limits_{j = 1}^m {P(} {X_j} = {x_j}|Y = {c_k})$$\n",
    "\n",
    "当然，计算$P(X = x)$这一步其实是可以省略的，因为在贝叶斯概率公式中$P(X = x)$是作为分母，所有的$P(X = x)$都是一样的，只需要计算分子就可以了。"
   ]
  },
  {
   "cell_type": "markdown",
   "metadata": {},
   "source": [
    "之后通过贝叶斯 概率公式计算不同特征组合下属于不同分类概率：\n",
    "\n",
    "$$P(Y = {C_k}|X = x) = \\frac{{P(Y = {C_k})P(X = x|Y = {C_k})}}{{P(X = x)}}$$\n",
    "\n",
    "将之前获得的先验概率、条件概率、全概率公式都用上，代入到上式中：\n",
    "\n",
    "$$P(Y = {C_k}|X = x) = \\frac{{P(Y = {C_k})\\prod\\limits_{j = 1}^m {P(} {X_j} = {x_j}|Y = {c_k})}}{{\\sum\\limits_{j = 1}^K {P(Y = {C_k}} )\\prod\\limits_{j = 1}^m {P(} {X_j} = {x_j}|Y = {c_k})}}$$\n",
    "\n",
    "最后比较属于各不同分类下的概率大小，取最大的一个分类概率，所以朴素贝叶斯分类算法可以表示为：\n",
    "\n",
    "$$P(Y = {C_k}|X = x) = \\underbrace {argmax}_{{C_k}}\\frac{{P(Y = {C_k})\\prod\\limits_{j = 1}^m {P(} {X_j} = {x_j}|Y = {c_k})}}{{\\sum\\limits_{j = 1}^K {P(Y = {C_k}} )\\prod\\limits_{j = 1}^m {P(} {X_j} = {x_j}|Y = {c_k})}}$$\n",
    "\n",
    "上面说过，计算各分类下概率时分母$P(X = x)$都一样，为节省计算量，可以分母，最终，朴素贝叶斯算法可以表示为：\n",
    "\n",
    "$$P(Y = {C_k}|X = x) = \\underbrace {argmax}_{{C_k}}P(Y = {C_k})\\prod\\limits_{j = 1}^m {P(} {X_j} = {x_j}|Y = {c_k})$$\n",
    "\n",
    "这也是朴素贝叶斯分类算法的目标函数。\n",
    "\n",
    "估计看了这么多数学表达，很多人都有些晕了，来，我们继续通过一个例子来解读。有如下所示的一个数据集（纯属杜撰），每个员工有三个特征属性——是否穿格子衬衫（${x_1}$）、是否秃顶（${x_2}$）、是否戴眼镜（${x_3}$），用来分类是否是程序员（$y$），$1$表示肯定，$0$表示否定。现在要做的是对最后一条记录进行分类，即判断是否是程序员。"
   ]
  },
  {
   "cell_type": "markdown",
   "metadata": {},
   "source": [
    "![image](data:image/png;base64,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)"
   ]
  },
  {
   "cell_type": "markdown",
   "metadata": {},
   "source": [
    "计算先验概率：\n",
    "\n",
    "$$P(y = 0) = \\frac{5}{{15}} = \\frac{1}{3}$$\n",
    "\n",
    "$$P(y = 1) = \\frac{{10}}{{15}} = \\frac{2}{3}$$\n",
    "\n",
    "不同分类下各特征值的条件概率：\n",
    "\n",
    "$$P({x_1} = 0|y = 0) = \\frac{3}{5},P({x_1} = 1|y = 0) = \\frac{2}{5},P({x_1} = 0|y = 1) = \\frac{2}{5},P({x_1} = 1|y = 1) = \\frac{3}{5}$$\n",
    "\n",
    "$$P({x_2} = 0|y = 0) = 1,P({x_2} = 1|y = 0) = 0,P({x_2} = 0|y = 1) = \\frac{1}{{10}},P({x_2} = 1|y = 1) = \\frac{9}{{10}}$$\n",
    "\n",
    "$$P({x_3} = 0|y = 0) = \\frac{3}{5},P({x_3} = 1|y = 0) = \\frac{2}{5},P({x_3} = 0|y = 1) = \\frac{1}{5},P({x_3} = 1|y = 1) = \\frac{4}{5}$$\n",
    "\n",
    "通过贝叶斯概率公式计算最后一个样本属于不同分类的概率。"
   ]
  },
  {
   "cell_type": "markdown",
   "metadata": {},
   "source": [
    "非程序员的概率：\n",
    "\n",
    " \n",
    "$$\\eqalign{\n",
    "  & P(y = 0|{x_1} = 1,{x_2} = 0,{x_3} = 1) = \\frac{{P(y = 0)P({x_1} = 1,{x_2} = 0,{x_3} = 1|y = 0)}}{{P({x_1} = 1,{x_2} = 0,{x_3} = 1)}}  \\cr\n",
    "  &   \\cr\n",
    "  &  = \\frac{{\\frac{1}{3} \\times \\frac{2}{5} \\times 1 \\times \\frac{2}{5}}}{{\\frac{1}{3} \\times \\frac{2}{5} \\times 1 \\times \\frac{2}{5} + \\frac{2}{3} \\times \\frac{3}{5} \\times \\frac{1}{{10}} \\times \\frac{4}{5}}} \\approx 0.625 \\cr} $$\n",
    "\n",
    "是程序员的概率：\n",
    "\n",
    "\n",
    "$$\\eqalign{\n",
    "  & P(y = 1|{x_1} = 1,{x_2} = 0,{x_3} = 1) = \\frac{{P(y = 1)P({x_1} = 1,{x_2} = 0,{x_3} = 1|y = 1)}}{{P({x_1} = 1,{x_2} = 0,{x_3} = 1)}}  \\cr\n",
    "  &   \\cr\n",
    "  &  = \\frac{{\\frac{2}{3} \\times \\frac{3}{5} \\times \\frac{1}{{10}} \\times \\frac{4}{5}}}{{\\frac{1}{3} \\times \\frac{2}{5} \\times 1 \\times \\frac{2}{5} + \\frac{2}{3} \\times \\frac{3}{5} \\times \\frac{1}{{10}} \\times \\frac{4}{5}}} \\approx 0.375 \\cr} $$\n",
    "\n",
    "因为$P(y = 1|{x_1} = 1,{x_2} = 0,{x_3} = 1) \\approx 0.625 > P(y = 0|{x_1} = 1,{x_2} = 0,{x_3} = 1) \\approx 0.375$，该职工不是程序员的概率要大一些，所以判定该职工非程序员。"
   ]
  },
  {
   "cell_type": "markdown",
   "metadata": {},
   "source": [
    "### 3.3 拉普拉斯平滑"
   ]
  },
  {
   "cell_type": "markdown",
   "metadata": {},
   "source": [
    "还是上面的预测是否是程序员的数据集，假设有如下所示的一条数据，然后预测是否是程序员："
   ]
  },
  {
   "cell_type": "markdown",
   "metadata": {},
   "source": [
    "![image](data:image/png;base64,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)"
   ]
  },
  {
   "cell_type": "markdown",
   "metadata": {},
   "source": [
    "还是按照上面的步骤进行计算，于是有：\n",
    "\n",
    "\n",
    "$$\\eqalign{\n",
    "  & P(y = 0|{x_1} = 1,{x_2} = 1,{x_3} = 0) = \\frac{{P(y = 0)P({x_1} = 1,{x_2} = 1,{x_3} = 0|y = 0)}}{{P({x_1} = 1,{x_2} = 1,{x_3} = 0)}}  \\cr\n",
    "  &   \\cr\n",
    "  &  = \\frac{{\\frac{1}{3} \\times \\frac{2}{5} \\times 0 \\times \\frac{3}{5}}}{{\\frac{1}{3} \\times \\frac{2}{5} \\times 0 \\times \\frac{3}{5} + \\frac{2}{3} \\times \\frac{3}{5} \\times \\frac{9}{{10}} \\times \\frac{0}{5}}} = 0 \\cr} $$\n",
    "\n",
    " "
   ]
  },
  {
   "cell_type": "markdown",
   "metadata": {},
   "source": [
    "计算出来的结果为$0$。仔细一看就明白了因为在所有非程序员的分类中，没有一个秃顶的，即：\n",
    "\n",
    "$$P({x_2} = 1|y = 0) = 0$$\n",
    "\n",
    "所以造成贝叶斯概率公式计算式的分子是$0$。细细一想，这样的话，只要是秃顶的，无论是否是穿格子衬衫、是否戴眼镜，就一定是程序员。这样真的没问题吗？结合实际来想，秃顶的也可能是大领导啊，只是因为训练数据非程序员中没有秃顶的，就认为非程序员一定不秃顶显然不合适，而且也造成了是否穿衬衫、是否戴眼镜这两列信息没什么用了（信息丢失）。\n",
    "\n",
    "这就是朴素贝叶斯算法的先天缺陷：其他属性携带的信息被训练集中某个分类下未出现的属性值“抹去”，造成预测出来的概率绝对为$0$。为了拟补这一缺陷，前辈们引入了拉普拉斯平滑的方法：对先验概率的分子(划分的计数)加$1$，分母加上类别数；对条件概率分子加$1$，分母加上对应特征的可能取值数量。这样在解决零概率问题的同时，也保证了概率和依然为$1$：\n",
    "\n",
    "$$P(c) = \\frac{{|{D_c}|}}{{|D|}} \\to P(c) = \\frac{{|{D_c}| + 1}}{{|D| + N}}$$\n",
    "\n",
    "$$P({x_i}|c) = \\frac{{|{D_{{x_i}|c}}|}}{{|{D_c}|}} \\to P({x_i}|c) = \\frac{{|{D_{{x_i}|c}}| + 1}}{{|{D_c}| + {N_i}}}$$\n",
    "\n",
    "其中，$N$表示数据集中分类标签，${N_i}$表示第$i$个属性的取值类别数，${|D|}$样本容量，${|{D_c}|}$表示类别$c$的记录数量，${|{D_{{x_i}|c}}|}$表示类别$c$中第$i$个属性取值为${x_i}$的记录数量。\n",
    "\n",
    "将这两个式子应用到上面的计算过程中，就可以弥补朴素贝叶斯算法的这一缺陷问题。"
   ]
  },
  {
   "cell_type": "markdown",
   "metadata": {},
   "source": [
    "### 3.4 连续型属性的概率计算"
   ]
  },
  {
   "cell_type": "markdown",
   "metadata": {},
   "source": [
    "我们在上文中说到过的所有理论、案例都是围绕离散型属性来展开的，当属性为离散型时，先验概率和条件概率可以通过计算所在比例获得，但现实应用中的数据往往并不都是离散型属性也有可能是连续型，例如上面判断程序员的例子，在是否戴眼镜这一属性改为眼睛近视度数，这个近视度数就是连续型，其取值可以取值范围内的任意整数甚至浮点数。\n",
    "\n",
    "当面对这种连续型的，又该怎么做呢？\n",
    "\n",
    "有两种方法：\n",
    "\n",
    "**（1）通过划分区间的方式离散化。**\n",
    "\n",
    "这种方法思想是将特征属性的取值范围划分为若干个区间，从而将连续型属性离散化，例如眼睛近似度数是从0到1000度，那么我们可以划分为从0开始，区间长度为100的10个区间，这样就讲眼睛近视度数划分为10个离散类别，达到离散化的目的。\n",
    "\n",
    "但是这种离散化的方法难以把握划分区间长度，如果划分区间太小，划分后的区间数量就会很多，每一个区间的记录数量很少，可能导致对条件概率$P(X = x|y)$误差不可靠。如果划分区间长度太长，就导致部分信息丢失，而且不同类别的记录也有很大可能划分到同一区间，导致分类不准确。\n",
    "\n",
    "**（2）通过概率密度函数计算概率。**\n",
    "\n",
    "这种方法首先需要假设该连续型属性的取值服从某种概率分布，然后通过训练数据做参数估计，获得分布函数，在计算概率时，根据密度函数来计算概率。\n",
    "\n",
    "通常，在多数情况下，我们假设数据是服从高斯分布的，即$P({x_i}|c) \\sim N({\\mu _{c,i}},\\sigma _{c,i}^2)$。其中，${\\mu _{c,i}}$和$\\sigma _{c,i}^2$分别是$c$类样本在第$i$个属性上取值的均值和方差，于是有：\n",
    "\n",
    "$$P({x_i}|c) = \\frac{1}{{\\sqrt {2\\pi } {\\sigma _{c,i}}}}{e^{ - \\frac{{{{(x - {\\mu _{c,i}})}^2}}}{{2\\sigma _{c,i}^2}}}}$$"
   ]
  },
  {
   "cell_type": "markdown",
   "metadata": {},
   "source": [
    "## 4 总结\n",
    "\n",
    "最后，对朴素贝叶斯分类算法优缺点做一个总结。\n",
    "\n",
    "优点：\n",
    "\n",
    "（1）朴素贝叶斯分类算法根源于贝叶斯概率公式，有很好的数学基础，分类效率稳定。\n",
    "\n",
    "（2）对小规模的数据表现很好，能个处理多分类任务，适合增量式训练，尤其是数据量超出内存时，我们可以一批批的去增量训练。\n",
    "\n",
    "（3）对缺失数据不太敏感，算法也比较简单，常用于文本分类。\n",
    "\n",
    "缺点：\n",
    "\n",
    "（1）理论上，朴素贝叶斯模型与其他分类方法相比具有最小的误差率。但是实际上并非总是如此，这是因为朴素贝叶斯模型给定输出类别的情况下,假设属性之间相互独立，这个假设在实际应用中往往是不成立的，在属性个数比较多或者属性之间相关性较大时，分类效果不好。而在属性相关性较小时，朴素贝叶斯性能最为良好。对于这一点，有半朴素贝叶斯之类的算法通过考虑部分关联性适度改进。\n",
    "\n",
    "（2）需要知道先验概率，且先验概率很多时候取决于假设，假设的模型可以有很多种，因此在某些时候会由于假设的先验模型的原因导致预测效果不佳。\n",
    "\n",
    "（3）由于我们是通过先验和数据来决定后验的概率从而决定分类，所以分类决策存在一定的错误率。\n",
    "\n",
    "（4）对输入数据的表达形式很敏感。"
   ]
  },
  {
   "cell_type": "markdown",
   "metadata": {},
   "source": [
    "参考：\n",
    "\n",
    "https://www.cnblogs.com/pinard/p/6069267.html\n",
    "\n",
    "https://www.jianshu.com/p/5953923f43f0"
   ]
  }
 ],
 "metadata": {
  "kernelspec": {
   "display_name": "study_python",
   "language": "python",
   "name": "study_python"
  },
  "language_info": {
   "codemirror_mode": {
    "name": "ipython",
    "version": 3
   },
   "file_extension": ".py",
   "mimetype": "text/x-python",
   "name": "python",
   "nbconvert_exporter": "python",
   "pygments_lexer": "ipython3",
   "version": "3.7.4"
  }
 },
 "nbformat": 4,
 "nbformat_minor": 2
}
